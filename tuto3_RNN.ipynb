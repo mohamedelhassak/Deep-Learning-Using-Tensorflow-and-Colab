{
  "nbformat": 4,
  "nbformat_minor": 0,
  "metadata": {
    "colab": {
      "name": "tuto3- RNN.ipynb",
      "provenance": []
    },
    "kernelspec": {
      "name": "python3",
      "display_name": "Python 3"
    }
  },
  "cells": [
    {
      "cell_type": "code",
      "metadata": {
        "id": "1HvRj6TqOXfm",
        "colab_type": "code",
        "colab": {}
      },
      "source": [
        "## import pacckages\n",
        "import matplotlib.pyplot as plt\n",
        "import numpy as np\n",
        "import pandas as pd\n",
        "\n",
        "from sklearn.preprocessing import MinMaxScaler\n",
        "\n",
        "import tensorflow as tf\n",
        "from tensorflow.keras.models import Sequential\n",
        "from tensorflow.keras.layers import Dense\n",
        "from tensorflow.keras.layers import LSTM\n",
        "\n"
      ],
      "execution_count": 0,
      "outputs": []
    },
    {
      "cell_type": "code",
      "metadata": {
        "id": "4KRy2rQQPzpq",
        "colab_type": "code",
        "colab": {
          "base_uri": "https://localhost:8080/",
          "height": 204
        },
        "outputId": "65191f56-550d-4ec2-f07b-6357cfa675bd"
      },
      "source": [
        "## load data\n",
        "df = pd.read_csv('/content/AirPassengers.csv')\n",
        "df.head()"
      ],
      "execution_count": 11,
      "outputs": [
        {
          "output_type": "execute_result",
          "data": {
            "text/html": [
              "<div>\n",
              "<style scoped>\n",
              "    .dataframe tbody tr th:only-of-type {\n",
              "        vertical-align: middle;\n",
              "    }\n",
              "\n",
              "    .dataframe tbody tr th {\n",
              "        vertical-align: top;\n",
              "    }\n",
              "\n",
              "    .dataframe thead th {\n",
              "        text-align: right;\n",
              "    }\n",
              "</style>\n",
              "<table border=\"1\" class=\"dataframe\">\n",
              "  <thead>\n",
              "    <tr style=\"text-align: right;\">\n",
              "      <th></th>\n",
              "      <th>Month</th>\n",
              "      <th>#Passengers</th>\n",
              "    </tr>\n",
              "  </thead>\n",
              "  <tbody>\n",
              "    <tr>\n",
              "      <th>0</th>\n",
              "      <td>1949-01</td>\n",
              "      <td>112</td>\n",
              "    </tr>\n",
              "    <tr>\n",
              "      <th>1</th>\n",
              "      <td>1949-02</td>\n",
              "      <td>118</td>\n",
              "    </tr>\n",
              "    <tr>\n",
              "      <th>2</th>\n",
              "      <td>1949-03</td>\n",
              "      <td>132</td>\n",
              "    </tr>\n",
              "    <tr>\n",
              "      <th>3</th>\n",
              "      <td>1949-04</td>\n",
              "      <td>129</td>\n",
              "    </tr>\n",
              "    <tr>\n",
              "      <th>4</th>\n",
              "      <td>1949-05</td>\n",
              "      <td>121</td>\n",
              "    </tr>\n",
              "  </tbody>\n",
              "</table>\n",
              "</div>"
            ],
            "text/plain": [
              "     Month  #Passengers\n",
              "0  1949-01          112\n",
              "1  1949-02          118\n",
              "2  1949-03          132\n",
              "3  1949-04          129\n",
              "4  1949-05          121"
            ]
          },
          "metadata": {
            "tags": []
          },
          "execution_count": 11
        }
      ]
    },
    {
      "cell_type": "code",
      "metadata": {
        "id": "HgHdN0kzQEVs",
        "colab_type": "code",
        "colab": {
          "base_uri": "https://localhost:8080/",
          "height": 34
        },
        "outputId": "9cc99c04-5416-46f9-d4af-b1a632bfc25d"
      },
      "source": [
        "data = df[['#Passengers']].values\n",
        "data.shape"
      ],
      "execution_count": 12,
      "outputs": [
        {
          "output_type": "execute_result",
          "data": {
            "text/plain": [
              "(144, 1)"
            ]
          },
          "metadata": {
            "tags": []
          },
          "execution_count": 12
        }
      ]
    },
    {
      "cell_type": "code",
      "metadata": {
        "id": "mR4LBIkRQN0K",
        "colab_type": "code",
        "colab": {}
      },
      "source": [
        "## preeprocessinh\n",
        "sc = MinMaxScaler(feature_range=(0,1))\n",
        "\n",
        "data_scaled = sc.fit_transform(data)"
      ],
      "execution_count": 0,
      "outputs": []
    },
    {
      "cell_type": "code",
      "metadata": {
        "id": "GIynWYTjQqLr",
        "colab_type": "code",
        "colab": {
          "base_uri": "https://localhost:8080/",
          "height": 34
        },
        "outputId": "faa3e6e0-7160-48a6-eeb1-21b405e12ad7"
      },
      "source": [
        "print('data max : ',data_scaled.max())"
      ],
      "execution_count": 15,
      "outputs": [
        {
          "output_type": "stream",
          "text": [
            "data max :  1.0\n"
          ],
          "name": "stdout"
        }
      ]
    },
    {
      "cell_type": "code",
      "metadata": {
        "id": "T1lvsit2Qt9r",
        "colab_type": "code",
        "colab": {}
      },
      "source": [
        "# split data\n",
        "X_data = []\n",
        "y_data = []\n",
        "\n",
        "look_back =1\n",
        "\n",
        "for i in range(len(data_scaled) -1):\n",
        "  X_data.append(data_scaled[i:(i +look_back),0])\n",
        "  y_data.append(data_scaled[i +look_back,0])\n",
        "\n",
        "X_data, y_data = np.array(X_data), np.array(y_data)"
      ],
      "execution_count": 0,
      "outputs": []
    },
    {
      "cell_type": "code",
      "metadata": {
        "id": "t82dGbV5R8MS",
        "colab_type": "code",
        "colab": {
          "base_uri": "https://localhost:8080/",
          "height": 34
        },
        "outputId": "f531cf5c-093b-4d65-f563-696088746e3b"
      },
      "source": [
        "X_data.shape"
      ],
      "execution_count": 20,
      "outputs": [
        {
          "output_type": "execute_result",
          "data": {
            "text/plain": [
              "(143, 1)"
            ]
          },
          "metadata": {
            "tags": []
          },
          "execution_count": 20
        }
      ]
    },
    {
      "cell_type": "code",
      "metadata": {
        "id": "fZ1kSAMvSOKi",
        "colab_type": "code",
        "colab": {
          "base_uri": "https://localhost:8080/",
          "height": 34
        },
        "outputId": "185fbcab-5bf4-4bee-c25b-0326d37f2de3"
      },
      "source": [
        "#reshaping\n",
        "X_data = np.reshape(X_data,(X_data.shape[0],X_data.shape[1],1))\n",
        "X_data.shape"
      ],
      "execution_count": 21,
      "outputs": [
        {
          "output_type": "execute_result",
          "data": {
            "text/plain": [
              "(143, 1, 1)"
            ]
          },
          "metadata": {
            "tags": []
          },
          "execution_count": 21
        }
      ]
    },
    {
      "cell_type": "code",
      "metadata": {
        "id": "8T5CKjYdSq8C",
        "colab_type": "code",
        "colab": {
          "base_uri": "https://localhost:8080/",
          "height": 34
        },
        "outputId": "e7e42f3c-c546-4e5b-be75-edc790d17dea"
      },
      "source": [
        "y_data = np.reshape(y_data,(y_data.shape[0],1))\n",
        "y_data.shape"
      ],
      "execution_count": 24,
      "outputs": [
        {
          "output_type": "execute_result",
          "data": {
            "text/plain": [
              "(143, 1)"
            ]
          },
          "metadata": {
            "tags": []
          },
          "execution_count": 24
        }
      ]
    },
    {
      "cell_type": "code",
      "metadata": {
        "id": "eGVuKQl-SzOn",
        "colab_type": "code",
        "colab": {}
      },
      "source": [
        ""
      ],
      "execution_count": 0,
      "outputs": []
    },
    {
      "cell_type": "code",
      "metadata": {
        "id": "pPks8asqS-rO",
        "colab_type": "code",
        "colab": {}
      },
      "source": [
        "## split data into Train and Test\n",
        "tarin_size = int(len(X_data)*0.7)\n",
        "test_size = len(X_data) - tarin_size\n",
        "\n",
        "X_train = X_data[0:tarin_size,:]\n",
        "X_test  = X_data[tarin_size:len(X_data),:]\n",
        "y_train = y_data[0:tarin_size]\n",
        "y_test  = y_data[tarin_size:len(X_data)]"
      ],
      "execution_count": 0,
      "outputs": []
    },
    {
      "cell_type": "code",
      "metadata": {
        "id": "7pynHtIyUV8J",
        "colab_type": "code",
        "colab": {
          "base_uri": "https://localhost:8080/",
          "height": 34
        },
        "outputId": "ba458ac8-e0e3-438d-8887-8b6c31354910"
      },
      "source": [
        "X_train.shape"
      ],
      "execution_count": 55,
      "outputs": [
        {
          "output_type": "execute_result",
          "data": {
            "text/plain": [
              "(100, 1, 1)"
            ]
          },
          "metadata": {
            "tags": []
          },
          "execution_count": 55
        }
      ]
    },
    {
      "cell_type": "code",
      "metadata": {
        "id": "1OM-AVEiUbAj",
        "colab_type": "code",
        "colab": {
          "base_uri": "https://localhost:8080/",
          "height": 34
        },
        "outputId": "9cda2233-b253-4041-a0c8-3f2f6aea93ff"
      },
      "source": [
        "y_train.shape"
      ],
      "execution_count": 29,
      "outputs": [
        {
          "output_type": "execute_result",
          "data": {
            "text/plain": [
              "(100, 1)"
            ]
          },
          "metadata": {
            "tags": []
          },
          "execution_count": 29
        }
      ]
    },
    {
      "cell_type": "code",
      "metadata": {
        "id": "TRp4QvHPUel0",
        "colab_type": "code",
        "colab": {
          "base_uri": "https://localhost:8080/",
          "height": 34
        },
        "outputId": "1513bfd9-eab6-4397-94b9-46d04946811a"
      },
      "source": [
        "X_test.shape"
      ],
      "execution_count": 30,
      "outputs": [
        {
          "output_type": "execute_result",
          "data": {
            "text/plain": [
              "(43, 1, 1)"
            ]
          },
          "metadata": {
            "tags": []
          },
          "execution_count": 30
        }
      ]
    },
    {
      "cell_type": "code",
      "metadata": {
        "id": "rXyzN-qGUiO1",
        "colab_type": "code",
        "colab": {
          "base_uri": "https://localhost:8080/",
          "height": 34
        },
        "outputId": "54ead10f-c94c-4b0d-cf2d-4693c517049b"
      },
      "source": [
        "y_test.shape"
      ],
      "execution_count": 31,
      "outputs": [
        {
          "output_type": "execute_result",
          "data": {
            "text/plain": [
              "(43, 1)"
            ]
          },
          "metadata": {
            "tags": []
          },
          "execution_count": 31
        }
      ]
    },
    {
      "cell_type": "code",
      "metadata": {
        "id": "wToG5qZiUlZp",
        "colab_type": "code",
        "colab": {}
      },
      "source": [
        "## build model RNN\n",
        "model = Sequential()\n",
        "\n",
        "model.add(LSTM(units=50, return_sequences=True, input_shape=(X_train.shape[1],1)))\n",
        "model.add(LSTM(units=50, return_sequences=True))\n",
        "model.add(LSTM(units=50))\n",
        "\n",
        "## output layerr\n",
        "model.add(Dense(units=1))\n",
        "\n"
      ],
      "execution_count": 0,
      "outputs": []
    },
    {
      "cell_type": "code",
      "metadata": {
        "id": "TSyqCWoZVl1B",
        "colab_type": "code",
        "colab": {}
      },
      "source": [
        "## compile model\n",
        "model.compile(optimizer='adam',\n",
        "              loss='mean_squared_error')"
      ],
      "execution_count": 0,
      "outputs": []
    },
    {
      "cell_type": "code",
      "metadata": {
        "id": "uPJdky4xWEN8",
        "colab_type": "code",
        "colab": {
          "base_uri": "https://localhost:8080/",
          "height": 289
        },
        "outputId": "d0a97d27-b89e-4c00-b9a9-8cd149d77c5c"
      },
      "source": [
        "model.summary()"
      ],
      "execution_count": 35,
      "outputs": [
        {
          "output_type": "stream",
          "text": [
            "Model: \"sequential\"\n",
            "_________________________________________________________________\n",
            "Layer (type)                 Output Shape              Param #   \n",
            "=================================================================\n",
            "lstm (LSTM)                  (None, 1, 50)             10400     \n",
            "_________________________________________________________________\n",
            "lstm_1 (LSTM)                (None, 1, 50)             20200     \n",
            "_________________________________________________________________\n",
            "lstm_2 (LSTM)                (None, 50)                20200     \n",
            "_________________________________________________________________\n",
            "dense (Dense)                (None, 1)                 51        \n",
            "=================================================================\n",
            "Total params: 50,851\n",
            "Trainable params: 50,851\n",
            "Non-trainable params: 0\n",
            "_________________________________________________________________\n"
          ],
          "name": "stdout"
        }
      ]
    },
    {
      "cell_type": "code",
      "metadata": {
        "id": "wujPmDICWF6e",
        "colab_type": "code",
        "colab": {
          "base_uri": "https://localhost:8080/",
          "height": 1000
        },
        "outputId": "3f7c5ec3-a623-47e8-a347-176d45b8a5a6"
      },
      "source": [
        "## fiiting model\n",
        "model.fit(X_train,y_train,batch_size=16, epochs=200)"
      ],
      "execution_count": 41,
      "outputs": [
        {
          "output_type": "stream",
          "text": [
            "Epoch 1/200\n",
            "7/7 [==============================] - 0s 6ms/step - loss: 0.0020\n",
            "Epoch 2/200\n",
            "7/7 [==============================] - 0s 6ms/step - loss: 0.0020\n",
            "Epoch 3/200\n",
            "7/7 [==============================] - 0s 6ms/step - loss: 0.0020\n",
            "Epoch 4/200\n",
            "7/7 [==============================] - 0s 6ms/step - loss: 0.0020\n",
            "Epoch 5/200\n",
            "7/7 [==============================] - 0s 6ms/step - loss: 0.0021\n",
            "Epoch 6/200\n",
            "7/7 [==============================] - 0s 6ms/step - loss: 0.0020\n",
            "Epoch 7/200\n",
            "7/7 [==============================] - 0s 6ms/step - loss: 0.0020\n",
            "Epoch 8/200\n",
            "7/7 [==============================] - 0s 5ms/step - loss: 0.0020\n",
            "Epoch 9/200\n",
            "7/7 [==============================] - 0s 5ms/step - loss: 0.0020\n",
            "Epoch 10/200\n",
            "7/7 [==============================] - 0s 4ms/step - loss: 0.0020\n",
            "Epoch 11/200\n",
            "7/7 [==============================] - 0s 5ms/step - loss: 0.0020\n",
            "Epoch 12/200\n",
            "7/7 [==============================] - 0s 4ms/step - loss: 0.0021\n",
            "Epoch 13/200\n",
            "7/7 [==============================] - 0s 4ms/step - loss: 0.0021\n",
            "Epoch 14/200\n",
            "7/7 [==============================] - 0s 4ms/step - loss: 0.0020\n",
            "Epoch 15/200\n",
            "7/7 [==============================] - 0s 5ms/step - loss: 0.0022\n",
            "Epoch 16/200\n",
            "7/7 [==============================] - 0s 8ms/step - loss: 0.0020\n",
            "Epoch 17/200\n",
            "7/7 [==============================] - 0s 4ms/step - loss: 0.0021\n",
            "Epoch 18/200\n",
            "7/7 [==============================] - 0s 4ms/step - loss: 0.0020\n",
            "Epoch 19/200\n",
            "7/7 [==============================] - 0s 4ms/step - loss: 0.0020\n",
            "Epoch 20/200\n",
            "7/7 [==============================] - 0s 4ms/step - loss: 0.0020\n",
            "Epoch 21/200\n",
            "7/7 [==============================] - 0s 4ms/step - loss: 0.0020\n",
            "Epoch 22/200\n",
            "7/7 [==============================] - 0s 4ms/step - loss: 0.0020\n",
            "Epoch 23/200\n",
            "7/7 [==============================] - 0s 5ms/step - loss: 0.0021\n",
            "Epoch 24/200\n",
            "7/7 [==============================] - 0s 5ms/step - loss: 0.0021\n",
            "Epoch 25/200\n",
            "7/7 [==============================] - 0s 4ms/step - loss: 0.0020\n",
            "Epoch 26/200\n",
            "7/7 [==============================] - 0s 4ms/step - loss: 0.0020\n",
            "Epoch 27/200\n",
            "7/7 [==============================] - 0s 5ms/step - loss: 0.0020\n",
            "Epoch 28/200\n",
            "7/7 [==============================] - 0s 4ms/step - loss: 0.0020\n",
            "Epoch 29/200\n",
            "7/7 [==============================] - 0s 4ms/step - loss: 0.0020\n",
            "Epoch 30/200\n",
            "7/7 [==============================] - 0s 4ms/step - loss: 0.0020\n",
            "Epoch 31/200\n",
            "7/7 [==============================] - 0s 4ms/step - loss: 0.0020\n",
            "Epoch 32/200\n",
            "7/7 [==============================] - 0s 4ms/step - loss: 0.0021\n",
            "Epoch 33/200\n",
            "7/7 [==============================] - 0s 4ms/step - loss: 0.0020\n",
            "Epoch 34/200\n",
            "7/7 [==============================] - 0s 4ms/step - loss: 0.0020\n",
            "Epoch 35/200\n",
            "7/7 [==============================] - 0s 4ms/step - loss: 0.0020\n",
            "Epoch 36/200\n",
            "7/7 [==============================] - 0s 4ms/step - loss: 0.0020\n",
            "Epoch 37/200\n",
            "7/7 [==============================] - 0s 4ms/step - loss: 0.0020\n",
            "Epoch 38/200\n",
            "7/7 [==============================] - 0s 4ms/step - loss: 0.0021\n",
            "Epoch 39/200\n",
            "7/7 [==============================] - 0s 5ms/step - loss: 0.0020\n",
            "Epoch 40/200\n",
            "7/7 [==============================] - 0s 4ms/step - loss: 0.0020\n",
            "Epoch 41/200\n",
            "7/7 [==============================] - 0s 5ms/step - loss: 0.0020\n",
            "Epoch 42/200\n",
            "7/7 [==============================] - 0s 4ms/step - loss: 0.0021\n",
            "Epoch 43/200\n",
            "7/7 [==============================] - 0s 5ms/step - loss: 0.0020\n",
            "Epoch 44/200\n",
            "7/7 [==============================] - 0s 4ms/step - loss: 0.0020\n",
            "Epoch 45/200\n",
            "7/7 [==============================] - 0s 5ms/step - loss: 0.0020\n",
            "Epoch 46/200\n",
            "7/7 [==============================] - 0s 4ms/step - loss: 0.0020\n",
            "Epoch 47/200\n",
            "7/7 [==============================] - 0s 4ms/step - loss: 0.0020\n",
            "Epoch 48/200\n",
            "7/7 [==============================] - 0s 4ms/step - loss: 0.0020\n",
            "Epoch 49/200\n",
            "7/7 [==============================] - 0s 4ms/step - loss: 0.0021\n",
            "Epoch 50/200\n",
            "7/7 [==============================] - 0s 5ms/step - loss: 0.0020\n",
            "Epoch 51/200\n",
            "7/7 [==============================] - 0s 4ms/step - loss: 0.0020\n",
            "Epoch 52/200\n",
            "7/7 [==============================] - 0s 4ms/step - loss: 0.0021\n",
            "Epoch 53/200\n",
            "7/7 [==============================] - 0s 4ms/step - loss: 0.0020\n",
            "Epoch 54/200\n",
            "7/7 [==============================] - 0s 4ms/step - loss: 0.0020\n",
            "Epoch 55/200\n",
            "7/7 [==============================] - 0s 6ms/step - loss: 0.0023\n",
            "Epoch 56/200\n",
            "7/7 [==============================] - 0s 4ms/step - loss: 0.0020\n",
            "Epoch 57/200\n",
            "7/7 [==============================] - 0s 5ms/step - loss: 0.0020\n",
            "Epoch 58/200\n",
            "7/7 [==============================] - 0s 5ms/step - loss: 0.0021\n",
            "Epoch 59/200\n",
            "7/7 [==============================] - 0s 4ms/step - loss: 0.0020\n",
            "Epoch 60/200\n",
            "7/7 [==============================] - 0s 5ms/step - loss: 0.0022\n",
            "Epoch 61/200\n",
            "7/7 [==============================] - 0s 4ms/step - loss: 0.0021\n",
            "Epoch 62/200\n",
            "7/7 [==============================] - 0s 4ms/step - loss: 0.0020\n",
            "Epoch 63/200\n",
            "7/7 [==============================] - 0s 4ms/step - loss: 0.0022\n",
            "Epoch 64/200\n",
            "7/7 [==============================] - 0s 4ms/step - loss: 0.0021\n",
            "Epoch 65/200\n",
            "7/7 [==============================] - 0s 5ms/step - loss: 0.0020\n",
            "Epoch 66/200\n",
            "7/7 [==============================] - 0s 4ms/step - loss: 0.0021\n",
            "Epoch 67/200\n",
            "7/7 [==============================] - 0s 5ms/step - loss: 0.0020\n",
            "Epoch 68/200\n",
            "7/7 [==============================] - 0s 5ms/step - loss: 0.0021\n",
            "Epoch 69/200\n",
            "7/7 [==============================] - 0s 5ms/step - loss: 0.0020\n",
            "Epoch 70/200\n",
            "7/7 [==============================] - 0s 4ms/step - loss: 0.0020\n",
            "Epoch 71/200\n",
            "7/7 [==============================] - 0s 5ms/step - loss: 0.0020\n",
            "Epoch 72/200\n",
            "7/7 [==============================] - 0s 4ms/step - loss: 0.0020\n",
            "Epoch 73/200\n",
            "7/7 [==============================] - 0s 4ms/step - loss: 0.0020\n",
            "Epoch 74/200\n",
            "7/7 [==============================] - 0s 5ms/step - loss: 0.0020\n",
            "Epoch 75/200\n",
            "7/7 [==============================] - 0s 5ms/step - loss: 0.0020\n",
            "Epoch 76/200\n",
            "7/7 [==============================] - 0s 4ms/step - loss: 0.0020\n",
            "Epoch 77/200\n",
            "7/7 [==============================] - 0s 4ms/step - loss: 0.0020\n",
            "Epoch 78/200\n",
            "7/7 [==============================] - 0s 4ms/step - loss: 0.0021\n",
            "Epoch 79/200\n",
            "7/7 [==============================] - 0s 4ms/step - loss: 0.0020\n",
            "Epoch 80/200\n",
            "7/7 [==============================] - 0s 4ms/step - loss: 0.0020\n",
            "Epoch 81/200\n",
            "7/7 [==============================] - 0s 4ms/step - loss: 0.0020\n",
            "Epoch 82/200\n",
            "7/7 [==============================] - 0s 5ms/step - loss: 0.0020\n",
            "Epoch 83/200\n",
            "7/7 [==============================] - 0s 5ms/step - loss: 0.0020\n",
            "Epoch 84/200\n",
            "7/7 [==============================] - 0s 4ms/step - loss: 0.0020\n",
            "Epoch 85/200\n",
            "7/7 [==============================] - 0s 4ms/step - loss: 0.0020\n",
            "Epoch 86/200\n",
            "7/7 [==============================] - 0s 4ms/step - loss: 0.0020\n",
            "Epoch 87/200\n",
            "7/7 [==============================] - 0s 4ms/step - loss: 0.0020\n",
            "Epoch 88/200\n",
            "7/7 [==============================] - 0s 4ms/step - loss: 0.0020\n",
            "Epoch 89/200\n",
            "7/7 [==============================] - 0s 5ms/step - loss: 0.0020\n",
            "Epoch 90/200\n",
            "7/7 [==============================] - 0s 6ms/step - loss: 0.0020\n",
            "Epoch 91/200\n",
            "7/7 [==============================] - 0s 4ms/step - loss: 0.0020\n",
            "Epoch 92/200\n",
            "7/7 [==============================] - 0s 4ms/step - loss: 0.0020\n",
            "Epoch 93/200\n",
            "7/7 [==============================] - 0s 5ms/step - loss: 0.0020\n",
            "Epoch 94/200\n",
            "7/7 [==============================] - 0s 4ms/step - loss: 0.0020\n",
            "Epoch 95/200\n",
            "7/7 [==============================] - 0s 5ms/step - loss: 0.0020\n",
            "Epoch 96/200\n",
            "7/7 [==============================] - 0s 4ms/step - loss: 0.0020\n",
            "Epoch 97/200\n",
            "7/7 [==============================] - 0s 5ms/step - loss: 0.0020\n",
            "Epoch 98/200\n",
            "7/7 [==============================] - 0s 5ms/step - loss: 0.0020\n",
            "Epoch 99/200\n",
            "7/7 [==============================] - 0s 5ms/step - loss: 0.0020\n",
            "Epoch 100/200\n",
            "7/7 [==============================] - 0s 5ms/step - loss: 0.0020\n",
            "Epoch 101/200\n",
            "7/7 [==============================] - 0s 4ms/step - loss: 0.0020\n",
            "Epoch 102/200\n",
            "7/7 [==============================] - 0s 4ms/step - loss: 0.0020\n",
            "Epoch 103/200\n",
            "7/7 [==============================] - 0s 5ms/step - loss: 0.0020\n",
            "Epoch 104/200\n",
            "7/7 [==============================] - 0s 4ms/step - loss: 0.0020\n",
            "Epoch 105/200\n",
            "7/7 [==============================] - 0s 6ms/step - loss: 0.0025\n",
            "Epoch 106/200\n",
            "7/7 [==============================] - 0s 4ms/step - loss: 0.0021\n",
            "Epoch 107/200\n",
            "7/7 [==============================] - 0s 4ms/step - loss: 0.0020\n",
            "Epoch 108/200\n",
            "7/7 [==============================] - 0s 4ms/step - loss: 0.0020\n",
            "Epoch 109/200\n",
            "7/7 [==============================] - 0s 4ms/step - loss: 0.0021\n",
            "Epoch 110/200\n",
            "7/7 [==============================] - 0s 4ms/step - loss: 0.0020\n",
            "Epoch 111/200\n",
            "7/7 [==============================] - 0s 5ms/step - loss: 0.0020\n",
            "Epoch 112/200\n",
            "7/7 [==============================] - 0s 5ms/step - loss: 0.0020\n",
            "Epoch 113/200\n",
            "7/7 [==============================] - 0s 5ms/step - loss: 0.0020\n",
            "Epoch 114/200\n",
            "7/7 [==============================] - 0s 5ms/step - loss: 0.0022\n",
            "Epoch 115/200\n",
            "7/7 [==============================] - 0s 4ms/step - loss: 0.0020\n",
            "Epoch 116/200\n",
            "7/7 [==============================] - 0s 4ms/step - loss: 0.0022\n",
            "Epoch 117/200\n",
            "7/7 [==============================] - 0s 5ms/step - loss: 0.0020\n",
            "Epoch 118/200\n",
            "7/7 [==============================] - 0s 5ms/step - loss: 0.0020\n",
            "Epoch 119/200\n",
            "7/7 [==============================] - 0s 6ms/step - loss: 0.0020\n",
            "Epoch 120/200\n",
            "7/7 [==============================] - 0s 5ms/step - loss: 0.0020\n",
            "Epoch 121/200\n",
            "7/7 [==============================] - 0s 5ms/step - loss: 0.0020\n",
            "Epoch 122/200\n",
            "7/7 [==============================] - 0s 4ms/step - loss: 0.0020\n",
            "Epoch 123/200\n",
            "7/7 [==============================] - 0s 4ms/step - loss: 0.0020\n",
            "Epoch 124/200\n",
            "7/7 [==============================] - 0s 4ms/step - loss: 0.0020\n",
            "Epoch 125/200\n",
            "7/7 [==============================] - 0s 4ms/step - loss: 0.0020\n",
            "Epoch 126/200\n",
            "7/7 [==============================] - 0s 5ms/step - loss: 0.0020\n",
            "Epoch 127/200\n",
            "7/7 [==============================] - 0s 5ms/step - loss: 0.0021\n",
            "Epoch 128/200\n",
            "7/7 [==============================] - 0s 5ms/step - loss: 0.0020\n",
            "Epoch 129/200\n",
            "7/7 [==============================] - 0s 6ms/step - loss: 0.0020\n",
            "Epoch 130/200\n",
            "7/7 [==============================] - 0s 5ms/step - loss: 0.0020\n",
            "Epoch 131/200\n",
            "7/7 [==============================] - 0s 5ms/step - loss: 0.0021\n",
            "Epoch 132/200\n",
            "7/7 [==============================] - 0s 5ms/step - loss: 0.0020\n",
            "Epoch 133/200\n",
            "7/7 [==============================] - 0s 4ms/step - loss: 0.0021\n",
            "Epoch 134/200\n",
            "7/7 [==============================] - 0s 6ms/step - loss: 0.0021\n",
            "Epoch 135/200\n",
            "7/7 [==============================] - 0s 5ms/step - loss: 0.0020\n",
            "Epoch 136/200\n",
            "7/7 [==============================] - 0s 5ms/step - loss: 0.0020\n",
            "Epoch 137/200\n",
            "7/7 [==============================] - 0s 6ms/step - loss: 0.0020\n",
            "Epoch 138/200\n",
            "7/7 [==============================] - 0s 6ms/step - loss: 0.0020\n",
            "Epoch 139/200\n",
            "7/7 [==============================] - 0s 6ms/step - loss: 0.0021\n",
            "Epoch 140/200\n",
            "7/7 [==============================] - 0s 5ms/step - loss: 0.0021\n",
            "Epoch 141/200\n",
            "7/7 [==============================] - 0s 6ms/step - loss: 0.0020\n",
            "Epoch 142/200\n",
            "7/7 [==============================] - 0s 5ms/step - loss: 0.0020\n",
            "Epoch 143/200\n",
            "7/7 [==============================] - 0s 6ms/step - loss: 0.0021\n",
            "Epoch 144/200\n",
            "7/7 [==============================] - 0s 5ms/step - loss: 0.0021\n",
            "Epoch 145/200\n",
            "7/7 [==============================] - 0s 5ms/step - loss: 0.0020\n",
            "Epoch 146/200\n",
            "7/7 [==============================] - 0s 4ms/step - loss: 0.0021\n",
            "Epoch 147/200\n",
            "7/7 [==============================] - 0s 5ms/step - loss: 0.0021\n",
            "Epoch 148/200\n",
            "7/7 [==============================] - 0s 5ms/step - loss: 0.0021\n",
            "Epoch 149/200\n",
            "7/7 [==============================] - 0s 5ms/step - loss: 0.0020\n",
            "Epoch 150/200\n",
            "7/7 [==============================] - 0s 5ms/step - loss: 0.0021\n",
            "Epoch 151/200\n",
            "7/7 [==============================] - 0s 5ms/step - loss: 0.0020\n",
            "Epoch 152/200\n",
            "7/7 [==============================] - 0s 4ms/step - loss: 0.0022\n",
            "Epoch 153/200\n",
            "7/7 [==============================] - 0s 5ms/step - loss: 0.0023\n",
            "Epoch 154/200\n",
            "7/7 [==============================] - 0s 5ms/step - loss: 0.0020\n",
            "Epoch 155/200\n",
            "7/7 [==============================] - 0s 4ms/step - loss: 0.0021\n",
            "Epoch 156/200\n",
            "7/7 [==============================] - 0s 5ms/step - loss: 0.0020\n",
            "Epoch 157/200\n",
            "7/7 [==============================] - 0s 5ms/step - loss: 0.0020\n",
            "Epoch 158/200\n",
            "7/7 [==============================] - 0s 5ms/step - loss: 0.0020\n",
            "Epoch 159/200\n",
            "7/7 [==============================] - 0s 5ms/step - loss: 0.0020\n",
            "Epoch 160/200\n",
            "7/7 [==============================] - 0s 6ms/step - loss: 0.0021\n",
            "Epoch 161/200\n",
            "7/7 [==============================] - 0s 5ms/step - loss: 0.0020\n",
            "Epoch 162/200\n",
            "7/7 [==============================] - 0s 5ms/step - loss: 0.0020\n",
            "Epoch 163/200\n",
            "7/7 [==============================] - 0s 5ms/step - loss: 0.0020\n",
            "Epoch 164/200\n",
            "7/7 [==============================] - 0s 5ms/step - loss: 0.0020\n",
            "Epoch 165/200\n",
            "7/7 [==============================] - 0s 5ms/step - loss: 0.0021\n",
            "Epoch 166/200\n",
            "7/7 [==============================] - 0s 5ms/step - loss: 0.0020\n",
            "Epoch 167/200\n",
            "7/7 [==============================] - 0s 5ms/step - loss: 0.0020\n",
            "Epoch 168/200\n",
            "7/7 [==============================] - 0s 4ms/step - loss: 0.0020\n",
            "Epoch 169/200\n",
            "7/7 [==============================] - 0s 4ms/step - loss: 0.0022\n",
            "Epoch 170/200\n",
            "7/7 [==============================] - 0s 4ms/step - loss: 0.0022\n",
            "Epoch 171/200\n",
            "7/7 [==============================] - 0s 5ms/step - loss: 0.0021\n",
            "Epoch 172/200\n",
            "7/7 [==============================] - 0s 4ms/step - loss: 0.0021\n",
            "Epoch 173/200\n",
            "7/7 [==============================] - 0s 4ms/step - loss: 0.0020\n",
            "Epoch 174/200\n",
            "7/7 [==============================] - 0s 5ms/step - loss: 0.0020\n",
            "Epoch 175/200\n",
            "7/7 [==============================] - 0s 5ms/step - loss: 0.0021\n",
            "Epoch 176/200\n",
            "7/7 [==============================] - 0s 5ms/step - loss: 0.0020\n",
            "Epoch 177/200\n",
            "7/7 [==============================] - 0s 5ms/step - loss: 0.0020\n",
            "Epoch 178/200\n",
            "7/7 [==============================] - 0s 5ms/step - loss: 0.0020\n",
            "Epoch 179/200\n",
            "7/7 [==============================] - 0s 5ms/step - loss: 0.0021\n",
            "Epoch 180/200\n",
            "7/7 [==============================] - 0s 4ms/step - loss: 0.0021\n",
            "Epoch 181/200\n",
            "7/7 [==============================] - 0s 4ms/step - loss: 0.0020\n",
            "Epoch 182/200\n",
            "7/7 [==============================] - 0s 5ms/step - loss: 0.0020\n",
            "Epoch 183/200\n",
            "7/7 [==============================] - 0s 5ms/step - loss: 0.0020\n",
            "Epoch 184/200\n",
            "7/7 [==============================] - 0s 4ms/step - loss: 0.0021\n",
            "Epoch 185/200\n",
            "7/7 [==============================] - 0s 5ms/step - loss: 0.0021\n",
            "Epoch 186/200\n",
            "7/7 [==============================] - 0s 4ms/step - loss: 0.0020\n",
            "Epoch 187/200\n",
            "7/7 [==============================] - 0s 4ms/step - loss: 0.0021\n",
            "Epoch 188/200\n",
            "7/7 [==============================] - 0s 5ms/step - loss: 0.0021\n",
            "Epoch 189/200\n",
            "7/7 [==============================] - 0s 4ms/step - loss: 0.0019\n",
            "Epoch 190/200\n",
            "7/7 [==============================] - 0s 4ms/step - loss: 0.0021\n",
            "Epoch 191/200\n",
            "7/7 [==============================] - 0s 5ms/step - loss: 0.0020\n",
            "Epoch 192/200\n",
            "7/7 [==============================] - 0s 4ms/step - loss: 0.0024\n",
            "Epoch 193/200\n",
            "7/7 [==============================] - 0s 4ms/step - loss: 0.0019\n",
            "Epoch 194/200\n",
            "7/7 [==============================] - 0s 7ms/step - loss: 0.0021\n",
            "Epoch 195/200\n",
            "7/7 [==============================] - 0s 4ms/step - loss: 0.0020\n",
            "Epoch 196/200\n",
            "7/7 [==============================] - 0s 4ms/step - loss: 0.0021\n",
            "Epoch 197/200\n",
            "7/7 [==============================] - 0s 4ms/step - loss: 0.0020\n",
            "Epoch 198/200\n",
            "7/7 [==============================] - 0s 5ms/step - loss: 0.0020\n",
            "Epoch 199/200\n",
            "7/7 [==============================] - 0s 4ms/step - loss: 0.0022\n",
            "Epoch 200/200\n",
            "7/7 [==============================] - 0s 6ms/step - loss: 0.0020\n"
          ],
          "name": "stdout"
        },
        {
          "output_type": "execute_result",
          "data": {
            "text/plain": [
              "<tensorflow.python.keras.callbacks.History at 0x7f917cc8e0f0>"
            ]
          },
          "metadata": {
            "tags": []
          },
          "execution_count": 41
        }
      ]
    },
    {
      "cell_type": "code",
      "metadata": {
        "id": "iy3DOuVpWaAn",
        "colab_type": "code",
        "colab": {
          "base_uri": "https://localhost:8080/",
          "height": 51
        },
        "outputId": "60159c5d-509f-4db0-8b4d-3d56ef2eb2b8"
      },
      "source": [
        "## evaluate model\n",
        "test_loss   = model.evaluate(X_test,y_test)\n",
        "\n",
        "print(f'test loss {test_loss} ')"
      ],
      "execution_count": 42,
      "outputs": [
        {
          "output_type": "stream",
          "text": [
            "2/2 [==============================] - 0s 2ms/step - loss: 0.0096\n",
            "test loss 0.009643182158470154 \n"
          ],
          "name": "stdout"
        }
      ]
    },
    {
      "cell_type": "code",
      "metadata": {
        "id": "ThSfpcVkWpJR",
        "colab_type": "code",
        "colab": {
          "base_uri": "https://localhost:8080/",
          "height": 295
        },
        "outputId": "e1fc4c47-8ed9-4751-9d76-0f0b13df9291"
      },
      "source": [
        "## plott result\n",
        "plt.plot(y_test,color='red',label='nb passenger reel')\n",
        "plt.plot(model.predict(X_test),color='green',label='nb passenger predicted')\n",
        "plt.title('reel vs predicted')\n",
        "plt.xlabel('temps')\n",
        "plt.ylabel('Passenger')\n",
        "plt.legend()\n",
        "plt.show()"
      ],
      "execution_count": 43,
      "outputs": [
        {
          "output_type": "display_data",
          "data": {
            "image/png": "[encoded data removed]",
            "text/plain": [
              "<Figure size 432x288 with 1 Axes>"
            ]
          },
          "metadata": {
            "tags": [],
            "needs_background": "light"
          }
        }
      ]
    },
    {
      "cell_type": "code",
      "metadata": {
        "id": "osaz5ARRXuq_",
        "colab_type": "code",
        "colab": {}
      },
      "source": [
        "X_new = np.array([122,122])\n",
        "X_new = np.reshape(X_new,(X_new.shape[0],1,1))\n",
        "\n",
        "y_new_pred = model.predict(X_new) "
      ],
      "execution_count": 0,
      "outputs": []
    },
    {
      "cell_type": "code",
      "metadata": {
        "id": "gtAE6fkkYl2G",
        "colab_type": "code",
        "colab": {
          "base_uri": "https://localhost:8080/",
          "height": 51
        },
        "outputId": "ed0be543-9ed8-40ba-c895-a68a48ec4224"
      },
      "source": [
        "y_new_pred"
      ],
      "execution_count": 53,
      "outputs": [
        {
          "output_type": "execute_result",
          "data": {
            "text/plain": [
              "array([[1.425635],\n",
              "       [1.425635]], dtype=float32)"
            ]
          },
          "metadata": {
            "tags": []
          },
          "execution_count": 53
        }
      ]
    },
    {
      "cell_type": "code",
      "metadata": {
        "id": "_A08UEpgYJHr",
        "colab_type": "code",
        "colab": {}
      },
      "source": [
        ""
      ],
      "execution_count": 0,
      "outputs": []
    }
  ]
}