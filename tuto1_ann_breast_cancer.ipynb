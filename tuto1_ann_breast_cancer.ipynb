{
  "nbformat": 4,
  "nbformat_minor": 0,
  "metadata": {
    "colab": {
      "name": "tuto1-ann breast cancer.ipynb",
      "provenance": [],
      "collapsed_sections": []
    },
    "kernelspec": {
      "name": "python3",
      "display_name": "Python 3"
    }
  },
  "cells": [
    {
      "cell_type": "code",
      "metadata": {
        "id": "Kl0y7E3Hz_Q0",
        "colab_type": "code",
        "colab": {}
      },
      "source": [
        " ## Import packages\n",
        " from sklearn import datasets\n",
        " import numpy as np\n",
        " import tensorflow as tf\n",
        " from sklearn.preprocessing import StandardScaler\n",
        " from sklearn.model_selection import train_test_split"
      ],
      "execution_count": 0,
      "outputs": []
    },
    {
      "cell_type": "code",
      "metadata": {
        "id": "-vkgfBur0fFY",
        "colab_type": "code",
        "colab": {}
      },
      "source": [
        "## load data \n",
        "df  = datasets.load_breast_cancer()"
      ],
      "execution_count": 0,
      "outputs": []
    },
    {
      "cell_type": "code",
      "metadata": {
        "id": "GZZ6qDy006nc",
        "colab_type": "code",
        "colab": {
          "base_uri": "https://localhost:8080/",
          "height": 1000
        },
        "outputId": "0e61fad4-5ad1-4d14-f4cb-9811f7dc73c6"
      },
      "source": [
        "## Exploryy data\n",
        "print(df.DESCR)"
      ],
      "execution_count": 5,
      "outputs": [
        {
          "output_type": "stream",
          "text": [
            ".. _breast_cancer_dataset:\n",
            "\n",
            "Breast cancer wisconsin (diagnostic) dataset\n",
            "--------------------------------------------\n",
            "\n",
            "**Data Set Characteristics:**\n",
            "\n",
            "    :Number of Instances: 569\n",
            "\n",
            "    :Number of Attributes: 30 numeric, predictive attributes and the class\n",
            "\n",
            "    :Attribute Information:\n",
            "        - radius (mean of distances from center to points on the perimeter)\n",
            "        - texture (standard deviation of gray-scale values)\n",
            "        - perimeter\n",
            "        - area\n",
            "        - smoothness (local variation in radius lengths)\n",
            "        - compactness (perimeter^2 / area - 1.0)\n",
            "        - concavity (severity of concave portions of the contour)\n",
            "        - concave points (number of concave portions of the contour)\n",
            "        - symmetry \n",
            "        - fractal dimension (\"coastline approximation\" - 1)\n",
            "\n",
            "        The mean, standard error, and \"worst\" or largest (mean of the three\n",
            "        largest values) of these features were computed for each image,\n",
            "        resulting in 30 features.  For instance, field 3 is Mean Radius, field\n",
            "        13 is Radius SE, field 23 is Worst Radius.\n",
            "\n",
            "        - class:\n",
            "                - WDBC-Malignant\n",
            "                - WDBC-Benign\n",
            "\n",
            "    :Summary Statistics:\n",
            "\n",
            "    ===================================== ====== ======\n",
            "                                           Min    Max\n",
            "    ===================================== ====== ======\n",
            "    radius (mean):                        6.981  28.11\n",
            "    texture (mean):                       9.71   39.28\n",
            "    perimeter (mean):                     43.79  188.5\n",
            "    area (mean):                          143.5  2501.0\n",
            "    smoothness (mean):                    0.053  0.163\n",
            "    compactness (mean):                   0.019  0.345\n",
            "    concavity (mean):                     0.0    0.427\n",
            "    concave points (mean):                0.0    0.201\n",
            "    symmetry (mean):                      0.106  0.304\n",
            "    fractal dimension (mean):             0.05   0.097\n",
            "    radius (standard error):              0.112  2.873\n",
            "    texture (standard error):             0.36   4.885\n",
            "    perimeter (standard error):           0.757  21.98\n",
            "    area (standard error):                6.802  542.2\n",
            "    smoothness (standard error):          0.002  0.031\n",
            "    compactness (standard error):         0.002  0.135\n",
            "    concavity (standard error):           0.0    0.396\n",
            "    concave points (standard error):      0.0    0.053\n",
            "    symmetry (standard error):            0.008  0.079\n",
            "    fractal dimension (standard error):   0.001  0.03\n",
            "    radius (worst):                       7.93   36.04\n",
            "    texture (worst):                      12.02  49.54\n",
            "    perimeter (worst):                    50.41  251.2\n",
            "    area (worst):                         185.2  4254.0\n",
            "    smoothness (worst):                   0.071  0.223\n",
            "    compactness (worst):                  0.027  1.058\n",
            "    concavity (worst):                    0.0    1.252\n",
            "    concave points (worst):               0.0    0.291\n",
            "    symmetry (worst):                     0.156  0.664\n",
            "    fractal dimension (worst):            0.055  0.208\n",
            "    ===================================== ====== ======\n",
            "\n",
            "    :Missing Attribute Values: None\n",
            "\n",
            "    :Class Distribution: 212 - Malignant, 357 - Benign\n",
            "\n",
            "    :Creator:  Dr. William H. Wolberg, W. Nick Street, Olvi L. Mangasarian\n",
            "\n",
            "    :Donor: Nick Street\n",
            "\n",
            "    :Date: November, 1995\n",
            "\n",
            "This is a copy of UCI ML Breast Cancer Wisconsin (Diagnostic) datasets.\n",
            "https://goo.gl/U2Uwz2\n",
            "\n",
            "Features are computed from a digitized image of a fine needle\n",
            "aspirate (FNA) of a breast mass.  They describe\n",
            "characteristics of the cell nuclei present in the image.\n",
            "\n",
            "Separating plane described above was obtained using\n",
            "Multisurface Method-Tree (MSM-T) [K. P. Bennett, \"Decision Tree\n",
            "Construction Via Linear Programming.\" Proceedings of the 4th\n",
            "Midwest Artificial Intelligence and Cognitive Science Society,\n",
            "pp. 97-101, 1992], a classification method which uses linear\n",
            "programming to construct a decision tree.  Relevant features\n",
            "were selected using an exhaustive search in the space of 1-4\n",
            "features and 1-3 separating planes.\n",
            "\n",
            "The actual linear program used to obtain the separating plane\n",
            "in the 3-dimensional space is that described in:\n",
            "[K. P. Bennett and O. L. Mangasarian: \"Robust Linear\n",
            "Programming Discrimination of Two Linearly Inseparable Sets\",\n",
            "Optimization Methods and Software 1, 1992, 23-34].\n",
            "\n",
            "This database is also available through the UW CS ftp server:\n",
            "\n",
            "ftp ftp.cs.wisc.edu\n",
            "cd math-prog/cpo-dataset/machine-learn/WDBC/\n",
            "\n",
            ".. topic:: References\n",
            "\n",
            "   - W.N. Street, W.H. Wolberg and O.L. Mangasarian. Nuclear feature extraction \n",
            "     for breast tumor diagnosis. IS&T/SPIE 1993 International Symposium on \n",
            "     Electronic Imaging: Science and Technology, volume 1905, pages 861-870,\n",
            "     San Jose, CA, 1993.\n",
            "   - O.L. Mangasarian, W.N. Street and W.H. Wolberg. Breast cancer diagnosis and \n",
            "     prognosis via linear programming. Operations Research, 43(4), pages 570-577, \n",
            "     July-August 1995.\n",
            "   - W.H. Wolberg, W.N. Street, and O.L. Mangasarian. Machine learning techniques\n",
            "     to diagnose breast cancer from fine-needle aspirates. Cancer Letters 77 (1994) \n",
            "     163-171.\n"
          ],
          "name": "stdout"
        }
      ]
    },
    {
      "cell_type": "code",
      "metadata": {
        "id": "AviZr3QS0_QW",
        "colab_type": "code",
        "colab": {
          "base_uri": "https://localhost:8080/",
          "height": 34
        },
        "outputId": "19993583-503f-4afd-f5d9-40c86ca6aabf"
      },
      "source": [
        "df.data.shape"
      ],
      "execution_count": 8,
      "outputs": [
        {
          "output_type": "execute_result",
          "data": {
            "text/plain": [
              "(569, 30)"
            ]
          },
          "metadata": {
            "tags": []
          },
          "execution_count": 8
        }
      ]
    },
    {
      "cell_type": "code",
      "metadata": {
        "id": "ZIZDS8b81T5h",
        "colab_type": "code",
        "colab": {}
      },
      "source": [
        "## prepare data \n",
        "X = df.data\n",
        "y = df.target"
      ],
      "execution_count": 0,
      "outputs": []
    },
    {
      "cell_type": "code",
      "metadata": {
        "id": "f4ml8Fsl1nzC",
        "colab_type": "code",
        "colab": {
          "base_uri": "https://localhost:8080/",
          "height": 247
        },
        "outputId": "6c6bf076-130b-4923-c888-00365c2564e3"
      },
      "source": [
        "## standarized data\n",
        "scaler = StandardScaler()\n",
        "X_scaled = scaler.fit_transform(X)\n",
        "X_scaled"
      ],
      "execution_count": 14,
      "outputs": [
        {
          "output_type": "execute_result",
          "data": {
            "text/plain": [
              "array([[ 1.09706398, -2.07333501,  1.26993369, ...,  2.29607613,\n",
              "         2.75062224,  1.93701461],\n",
              "       [ 1.82982061, -0.35363241,  1.68595471, ...,  1.0870843 ,\n",
              "        -0.24388967,  0.28118999],\n",
              "       [ 1.57988811,  0.45618695,  1.56650313, ...,  1.95500035,\n",
              "         1.152255  ,  0.20139121],\n",
              "       ...,\n",
              "       [ 0.70228425,  2.0455738 ,  0.67267578, ...,  0.41406869,\n",
              "        -1.10454895, -0.31840916],\n",
              "       [ 1.83834103,  2.33645719,  1.98252415, ...,  2.28998549,\n",
              "         1.91908301,  2.21963528],\n",
              "       [-1.80840125,  1.22179204, -1.81438851, ..., -1.74506282,\n",
              "        -0.04813821, -0.75120669]])"
            ]
          },
          "metadata": {
            "tags": []
          },
          "execution_count": 14
        }
      ]
    },
    {
      "cell_type": "code",
      "metadata": {
        "id": "5j1WUSqK18wG",
        "colab_type": "code",
        "colab": {}
      },
      "source": [
        "X_train, X_test, y_train, y_test = train_test_split(X_scaled,y, test_size=0.2, random_state=42)"
      ],
      "execution_count": 0,
      "outputs": []
    },
    {
      "cell_type": "code",
      "metadata": {
        "id": "kC_Ass602hS0",
        "colab_type": "code",
        "colab": {
          "base_uri": "https://localhost:8080/",
          "height": 34
        },
        "outputId": "c8719c78-afbb-45f8-dd0d-5674fd33c833"
      },
      "source": [
        "X_train.shape"
      ],
      "execution_count": 18,
      "outputs": [
        {
          "output_type": "execute_result",
          "data": {
            "text/plain": [
              "(455, 30)"
            ]
          },
          "metadata": {
            "tags": []
          },
          "execution_count": 18
        }
      ]
    },
    {
      "cell_type": "code",
      "metadata": {
        "id": "o2lplCkE2kn8",
        "colab_type": "code",
        "colab": {}
      },
      "source": [
        "## Build Neural Network\n",
        "\n",
        "### Create model\n",
        "model = tf.keras.models.Sequential()\n"
      ],
      "execution_count": 0,
      "outputs": []
    },
    {
      "cell_type": "code",
      "metadata": {
        "id": "4j9zBzVk3UHh",
        "colab_type": "code",
        "colab": {}
      },
      "source": [
        "## add layers\n",
        "### add one hidden layer of 15 units\n",
        "model.add(tf.keras.layers.Dense(units=15,activation='relu',kernel_initializer='uniform',input_dim=30))\n",
        "### add input layer of 1 unit\n",
        "model.add(tf.keras.layers.Dense(units=1,activation='sigmoid',kernel_initializer='uniform'))"
      ],
      "execution_count": 0,
      "outputs": []
    },
    {
      "cell_type": "code",
      "metadata": {
        "id": "jrrGsyMH4DPa",
        "colab_type": "code",
        "colab": {}
      },
      "source": [
        "## compile model\n",
        "model.compile(optimizer='adam',\n",
        "              loss='binary_crossentropy',\n",
        "              metrics=['binary_accuracy'])"
      ],
      "execution_count": 0,
      "outputs": []
    },
    {
      "cell_type": "code",
      "metadata": {
        "id": "Um5YUFGp5kUP",
        "colab_type": "code",
        "colab": {
          "base_uri": "https://localhost:8080/",
          "height": 230
        },
        "outputId": "db82fa9b-b808-46d4-9dfb-593f4359ab4d"
      },
      "source": [
        "## summary model\n",
        "model.summary()"
      ],
      "execution_count": 32,
      "outputs": [
        {
          "output_type": "stream",
          "text": [
            "Model: \"sequential_1\"\n",
            "_________________________________________________________________\n",
            "Layer (type)                 Output Shape              Param #   \n",
            "=================================================================\n",
            "dense_4 (Dense)              (None, 15)                465       \n",
            "_________________________________________________________________\n",
            "dense_5 (Dense)              (None, 1)                 16        \n",
            "=================================================================\n",
            "Total params: 481\n",
            "Trainable params: 481\n",
            "Non-trainable params: 0\n",
            "_________________________________________________________________\n"
          ],
          "name": "stdout"
        }
      ]
    },
    {
      "cell_type": "code",
      "metadata": {
        "id": "vGsrI4tR5suF",
        "colab_type": "code",
        "colab": {
          "base_uri": "https://localhost:8080/",
          "height": 1000
        },
        "outputId": "503ddf65-680a-491b-8922-1694c05272a1"
      },
      "source": [
        " ## training our model\n",
        " model.fit(X_train,y_train,batch_size=16,epochs=100)"
      ],
      "execution_count": 33,
      "outputs": [
        {
          "output_type": "stream",
          "text": [
            "Epoch 1/100\n",
            "29/29 [==============================] - 0s 1ms/step - loss: 0.6669 - binary_accuracy: 0.8571\n",
            "Epoch 2/100\n",
            "29/29 [==============================] - 0s 1ms/step - loss: 0.5619 - binary_accuracy: 0.9319\n",
            "Epoch 3/100\n",
            "29/29 [==============================] - 0s 1ms/step - loss: 0.4217 - binary_accuracy: 0.9341\n",
            "Epoch 4/100\n",
            "29/29 [==============================] - 0s 1ms/step - loss: 0.3184 - binary_accuracy: 0.9385\n",
            "Epoch 5/100\n",
            "29/29 [==============================] - 0s 1ms/step - loss: 0.2517 - binary_accuracy: 0.9473\n",
            "Epoch 6/100\n",
            "29/29 [==============================] - 0s 1ms/step - loss: 0.2059 - binary_accuracy: 0.9516\n",
            "Epoch 7/100\n",
            "29/29 [==============================] - 0s 1ms/step - loss: 0.1736 - binary_accuracy: 0.9626\n",
            "Epoch 8/100\n",
            "29/29 [==============================] - 0s 1ms/step - loss: 0.1508 - binary_accuracy: 0.9670\n",
            "Epoch 9/100\n",
            "29/29 [==============================] - 0s 1ms/step - loss: 0.1342 - binary_accuracy: 0.9714\n",
            "Epoch 10/100\n",
            "29/29 [==============================] - 0s 1ms/step - loss: 0.1214 - binary_accuracy: 0.9758\n",
            "Epoch 11/100\n",
            "29/29 [==============================] - 0s 1ms/step - loss: 0.1119 - binary_accuracy: 0.9780\n",
            "Epoch 12/100\n",
            "29/29 [==============================] - 0s 1ms/step - loss: 0.1043 - binary_accuracy: 0.9802\n",
            "Epoch 13/100\n",
            "29/29 [==============================] - 0s 1ms/step - loss: 0.0978 - binary_accuracy: 0.9824\n",
            "Epoch 14/100\n",
            "29/29 [==============================] - 0s 1ms/step - loss: 0.0926 - binary_accuracy: 0.9824\n",
            "Epoch 15/100\n",
            "29/29 [==============================] - 0s 1ms/step - loss: 0.0880 - binary_accuracy: 0.9846\n",
            "Epoch 16/100\n",
            "29/29 [==============================] - 0s 1ms/step - loss: 0.0845 - binary_accuracy: 0.9846\n",
            "Epoch 17/100\n",
            "29/29 [==============================] - 0s 1ms/step - loss: 0.0814 - binary_accuracy: 0.9846\n",
            "Epoch 18/100\n",
            "29/29 [==============================] - 0s 1ms/step - loss: 0.0782 - binary_accuracy: 0.9846\n",
            "Epoch 19/100\n",
            "29/29 [==============================] - 0s 1ms/step - loss: 0.0758 - binary_accuracy: 0.9868\n",
            "Epoch 20/100\n",
            "29/29 [==============================] - 0s 1ms/step - loss: 0.0734 - binary_accuracy: 0.9868\n",
            "Epoch 21/100\n",
            "29/29 [==============================] - 0s 1ms/step - loss: 0.0715 - binary_accuracy: 0.9868\n",
            "Epoch 22/100\n",
            "29/29 [==============================] - 0s 1ms/step - loss: 0.0696 - binary_accuracy: 0.9868\n",
            "Epoch 23/100\n",
            "29/29 [==============================] - 0s 1ms/step - loss: 0.0679 - binary_accuracy: 0.9868\n",
            "Epoch 24/100\n",
            "29/29 [==============================] - 0s 1ms/step - loss: 0.0665 - binary_accuracy: 0.9868\n",
            "Epoch 25/100\n",
            "29/29 [==============================] - 0s 1ms/step - loss: 0.0651 - binary_accuracy: 0.9868\n",
            "Epoch 26/100\n",
            "29/29 [==============================] - 0s 1ms/step - loss: 0.0639 - binary_accuracy: 0.9868\n",
            "Epoch 27/100\n",
            "29/29 [==============================] - 0s 1ms/step - loss: 0.0632 - binary_accuracy: 0.9868\n",
            "Epoch 28/100\n",
            "29/29 [==============================] - 0s 1ms/step - loss: 0.0620 - binary_accuracy: 0.9868\n",
            "Epoch 29/100\n",
            "29/29 [==============================] - 0s 1ms/step - loss: 0.0612 - binary_accuracy: 0.9868\n",
            "Epoch 30/100\n",
            "29/29 [==============================] - 0s 1ms/step - loss: 0.0600 - binary_accuracy: 0.9868\n",
            "Epoch 31/100\n",
            "29/29 [==============================] - 0s 1ms/step - loss: 0.0589 - binary_accuracy: 0.9868\n",
            "Epoch 32/100\n",
            "29/29 [==============================] - 0s 1ms/step - loss: 0.0582 - binary_accuracy: 0.9868\n",
            "Epoch 33/100\n",
            "29/29 [==============================] - 0s 1ms/step - loss: 0.0570 - binary_accuracy: 0.9868\n",
            "Epoch 34/100\n",
            "29/29 [==============================] - 0s 1ms/step - loss: 0.0563 - binary_accuracy: 0.9868\n",
            "Epoch 35/100\n",
            "29/29 [==============================] - 0s 1ms/step - loss: 0.0554 - binary_accuracy: 0.9868\n",
            "Epoch 36/100\n",
            "29/29 [==============================] - 0s 1ms/step - loss: 0.0547 - binary_accuracy: 0.9868\n",
            "Epoch 37/100\n",
            "29/29 [==============================] - 0s 1ms/step - loss: 0.0541 - binary_accuracy: 0.9868\n",
            "Epoch 38/100\n",
            "29/29 [==============================] - 0s 1ms/step - loss: 0.0536 - binary_accuracy: 0.9868\n",
            "Epoch 39/100\n",
            "29/29 [==============================] - 0s 1ms/step - loss: 0.0524 - binary_accuracy: 0.9868\n",
            "Epoch 40/100\n",
            "29/29 [==============================] - 0s 1ms/step - loss: 0.0519 - binary_accuracy: 0.9868\n",
            "Epoch 41/100\n",
            "29/29 [==============================] - 0s 1ms/step - loss: 0.0511 - binary_accuracy: 0.9868\n",
            "Epoch 42/100\n",
            "29/29 [==============================] - 0s 1ms/step - loss: 0.0506 - binary_accuracy: 0.9868\n",
            "Epoch 43/100\n",
            "29/29 [==============================] - 0s 1ms/step - loss: 0.0498 - binary_accuracy: 0.9868\n",
            "Epoch 44/100\n",
            "29/29 [==============================] - 0s 1ms/step - loss: 0.0492 - binary_accuracy: 0.9868\n",
            "Epoch 45/100\n",
            "29/29 [==============================] - 0s 1ms/step - loss: 0.0488 - binary_accuracy: 0.9868\n",
            "Epoch 46/100\n",
            "29/29 [==============================] - 0s 1ms/step - loss: 0.0481 - binary_accuracy: 0.9868\n",
            "Epoch 47/100\n",
            "29/29 [==============================] - 0s 1ms/step - loss: 0.0475 - binary_accuracy: 0.9868\n",
            "Epoch 48/100\n",
            "29/29 [==============================] - 0s 1ms/step - loss: 0.0471 - binary_accuracy: 0.9868\n",
            "Epoch 49/100\n",
            "29/29 [==============================] - 0s 1ms/step - loss: 0.0463 - binary_accuracy: 0.9868\n",
            "Epoch 50/100\n",
            "29/29 [==============================] - 0s 1ms/step - loss: 0.0460 - binary_accuracy: 0.9868\n",
            "Epoch 51/100\n",
            "29/29 [==============================] - 0s 1ms/step - loss: 0.0454 - binary_accuracy: 0.9890\n",
            "Epoch 52/100\n",
            "29/29 [==============================] - 0s 1ms/step - loss: 0.0447 - binary_accuracy: 0.9890\n",
            "Epoch 53/100\n",
            "29/29 [==============================] - 0s 1ms/step - loss: 0.0444 - binary_accuracy: 0.9890\n",
            "Epoch 54/100\n",
            "29/29 [==============================] - 0s 1ms/step - loss: 0.0437 - binary_accuracy: 0.9890\n",
            "Epoch 55/100\n",
            "29/29 [==============================] - 0s 1ms/step - loss: 0.0433 - binary_accuracy: 0.9890\n",
            "Epoch 56/100\n",
            "29/29 [==============================] - 0s 1ms/step - loss: 0.0428 - binary_accuracy: 0.9890\n",
            "Epoch 57/100\n",
            "29/29 [==============================] - 0s 1ms/step - loss: 0.0422 - binary_accuracy: 0.9890\n",
            "Epoch 58/100\n",
            "29/29 [==============================] - 0s 1ms/step - loss: 0.0418 - binary_accuracy: 0.9890\n",
            "Epoch 59/100\n",
            "29/29 [==============================] - 0s 1ms/step - loss: 0.0414 - binary_accuracy: 0.9912\n",
            "Epoch 60/100\n",
            "29/29 [==============================] - 0s 1ms/step - loss: 0.0409 - binary_accuracy: 0.9912\n",
            "Epoch 61/100\n",
            "29/29 [==============================] - 0s 1ms/step - loss: 0.0409 - binary_accuracy: 0.9912\n",
            "Epoch 62/100\n",
            "29/29 [==============================] - 0s 1ms/step - loss: 0.0402 - binary_accuracy: 0.9912\n",
            "Epoch 63/100\n",
            "29/29 [==============================] - 0s 1ms/step - loss: 0.0397 - binary_accuracy: 0.9912\n",
            "Epoch 64/100\n",
            "29/29 [==============================] - 0s 1ms/step - loss: 0.0391 - binary_accuracy: 0.9912\n",
            "Epoch 65/100\n",
            "29/29 [==============================] - 0s 1ms/step - loss: 0.0386 - binary_accuracy: 0.9912\n",
            "Epoch 66/100\n",
            "29/29 [==============================] - 0s 1ms/step - loss: 0.0384 - binary_accuracy: 0.9912\n",
            "Epoch 67/100\n",
            "29/29 [==============================] - 0s 1ms/step - loss: 0.0377 - binary_accuracy: 0.9912\n",
            "Epoch 68/100\n",
            "29/29 [==============================] - 0s 1ms/step - loss: 0.0375 - binary_accuracy: 0.9912\n",
            "Epoch 69/100\n",
            "29/29 [==============================] - 0s 1ms/step - loss: 0.0371 - binary_accuracy: 0.9912\n",
            "Epoch 70/100\n",
            "29/29 [==============================] - 0s 1ms/step - loss: 0.0365 - binary_accuracy: 0.9912\n",
            "Epoch 71/100\n",
            "29/29 [==============================] - 0s 1ms/step - loss: 0.0363 - binary_accuracy: 0.9912\n",
            "Epoch 72/100\n",
            "29/29 [==============================] - 0s 1ms/step - loss: 0.0357 - binary_accuracy: 0.9912\n",
            "Epoch 73/100\n",
            "29/29 [==============================] - 0s 1ms/step - loss: 0.0359 - binary_accuracy: 0.9912\n",
            "Epoch 74/100\n",
            "29/29 [==============================] - 0s 1ms/step - loss: 0.0349 - binary_accuracy: 0.9912\n",
            "Epoch 75/100\n",
            "29/29 [==============================] - 0s 1ms/step - loss: 0.0345 - binary_accuracy: 0.9912\n",
            "Epoch 76/100\n",
            "29/29 [==============================] - 0s 1ms/step - loss: 0.0340 - binary_accuracy: 0.9912\n",
            "Epoch 77/100\n",
            "29/29 [==============================] - 0s 1ms/step - loss: 0.0336 - binary_accuracy: 0.9912\n",
            "Epoch 78/100\n",
            "29/29 [==============================] - 0s 1ms/step - loss: 0.0333 - binary_accuracy: 0.9912\n",
            "Epoch 79/100\n",
            "29/29 [==============================] - 0s 1ms/step - loss: 0.0330 - binary_accuracy: 0.9912\n",
            "Epoch 80/100\n",
            "29/29 [==============================] - 0s 1ms/step - loss: 0.0326 - binary_accuracy: 0.9912\n",
            "Epoch 81/100\n",
            "29/29 [==============================] - 0s 1ms/step - loss: 0.0323 - binary_accuracy: 0.9912\n",
            "Epoch 82/100\n",
            "29/29 [==============================] - 0s 1ms/step - loss: 0.0318 - binary_accuracy: 0.9912\n",
            "Epoch 83/100\n",
            "29/29 [==============================] - 0s 1ms/step - loss: 0.0314 - binary_accuracy: 0.9912\n",
            "Epoch 84/100\n",
            "29/29 [==============================] - 0s 1ms/step - loss: 0.0313 - binary_accuracy: 0.9912\n",
            "Epoch 85/100\n",
            "29/29 [==============================] - 0s 1ms/step - loss: 0.0307 - binary_accuracy: 0.9912\n",
            "Epoch 86/100\n",
            "29/29 [==============================] - 0s 1ms/step - loss: 0.0305 - binary_accuracy: 0.9912\n",
            "Epoch 87/100\n",
            "29/29 [==============================] - 0s 1ms/step - loss: 0.0299 - binary_accuracy: 0.9912\n",
            "Epoch 88/100\n",
            "29/29 [==============================] - 0s 1ms/step - loss: 0.0298 - binary_accuracy: 0.9912\n",
            "Epoch 89/100\n",
            "29/29 [==============================] - 0s 1ms/step - loss: 0.0294 - binary_accuracy: 0.9912\n",
            "Epoch 90/100\n",
            "29/29 [==============================] - 0s 1ms/step - loss: 0.0292 - binary_accuracy: 0.9912\n",
            "Epoch 91/100\n",
            "29/29 [==============================] - 0s 1ms/step - loss: 0.0287 - binary_accuracy: 0.9912\n",
            "Epoch 92/100\n",
            "29/29 [==============================] - 0s 1ms/step - loss: 0.0284 - binary_accuracy: 0.9912\n",
            "Epoch 93/100\n",
            "29/29 [==============================] - 0s 1ms/step - loss: 0.0281 - binary_accuracy: 0.9912\n",
            "Epoch 94/100\n",
            "29/29 [==============================] - 0s 1ms/step - loss: 0.0280 - binary_accuracy: 0.9912\n",
            "Epoch 95/100\n",
            "29/29 [==============================] - 0s 1ms/step - loss: 0.0273 - binary_accuracy: 0.9912\n",
            "Epoch 96/100\n",
            "29/29 [==============================] - 0s 1ms/step - loss: 0.0270 - binary_accuracy: 0.9912\n",
            "Epoch 97/100\n",
            "29/29 [==============================] - 0s 1ms/step - loss: 0.0268 - binary_accuracy: 0.9912\n",
            "Epoch 98/100\n",
            "29/29 [==============================] - 0s 1ms/step - loss: 0.0263 - binary_accuracy: 0.9912\n",
            "Epoch 99/100\n",
            "29/29 [==============================] - 0s 1ms/step - loss: 0.0260 - binary_accuracy: 0.9934\n",
            "Epoch 100/100\n",
            "29/29 [==============================] - 0s 1ms/step - loss: 0.0257 - binary_accuracy: 0.9912\n"
          ],
          "name": "stdout"
        },
        {
          "output_type": "execute_result",
          "data": {
            "text/plain": [
              "<tensorflow.python.keras.callbacks.History at 0x7f1956ee76a0>"
            ]
          },
          "metadata": {
            "tags": []
          },
          "execution_count": 33
        }
      ]
    },
    {
      "cell_type": "code",
      "metadata": {
        "id": "vig1sVxn6gwX",
        "colab_type": "code",
        "colab": {
          "base_uri": "https://localhost:8080/",
          "height": 52
        },
        "outputId": "9efd49e5-995e-4d58-8052-a776dc9dfc18"
      },
      "source": [
        "##evaluate  model on test set\n",
        "test_loss ,test_acc  = model.evaluate(X_test,y_test)\n",
        "\n",
        "print(f'test loss {test_loss} and test accuracy {test_acc}')"
      ],
      "execution_count": 36,
      "outputs": [
        {
          "output_type": "stream",
          "text": [
            "4/4 [==============================] - 0s 2ms/step - loss: 0.0566 - binary_accuracy: 0.9912\n",
            "test loss 0.05658498406410217 and test accuracy 0.9912280440330505\n"
          ],
          "name": "stdout"
        }
      ]
    },
    {
      "cell_type": "code",
      "metadata": {
        "id": "U2SX8HEP7CcE",
        "colab_type": "code",
        "colab": {}
      },
      "source": [
        ""
      ],
      "execution_count": 0,
      "outputs": []
    }
  ]
}