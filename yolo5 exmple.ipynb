{
  "nbformat": 4,
  "nbformat_minor": 0,
  "metadata": {
    "colab": {
      "name": "Untitled7.ipynb",
      "provenance": [],
      "collapsed_sections": [],
      "authorship_tag": "ABX9TyPyoYVMw/K43+JrKw/RpdK2",
      "include_colab_link": true
    },
    "kernelspec": {
      "name": "python3",
      "display_name": "Python 3"
    }
  },
  "cells": [
    {
      "cell_type": "markdown",
      "metadata": {
        "id": "view-in-github",
        "colab_type": "text"
      },
      "source": [
        "<a href=\"https://colab.research.google.com/github/mohamedelhassak/Deep-Learning-Using-Tensorflow-and-Colab-Training/blob/master/yolo5%20exmple.ipynb\" target=\"_parent\"><img src=\"https://colab.research.google.com/assets/colab-badge.svg\" alt=\"Open In Colab\"/></a>"
      ]
    },
    {
      "cell_type": "code",
      "metadata": {
        "id": "mWqfhk6kOfNf",
        "outputId": "fe925a0f-54e0-4d49-b675-0d03cc83b3de",
        "colab": {
          "base_uri": "https://localhost:8080/",
          "height": 131
        }
      },
      "source": [
        "!git clone https://github.com/sid0312/anpr_yolov5"
      ],
      "execution_count": 1,
      "outputs": [
        {
          "output_type": "stream",
          "text": [
            "Cloning into 'anpr_yolov5'...\n",
            "remote: Enumerating objects: 60, done.\u001b[K\n",
            "remote: Counting objects: 100% (60/60), done.\u001b[K\n",
            "remote: Compressing objects: 100% (55/55), done.\u001b[K\n",
            "remote: Total 629 (delta 25), reused 24 (delta 4), pack-reused 569\u001b[K\n",
            "Receiving objects: 100% (629/629), 64.30 MiB | 32.47 MiB/s, done.\n",
            "Resolving deltas: 100% (52/52), done.\n"
          ],
          "name": "stdout"
        }
      ]
    },
    {
      "cell_type": "code",
      "metadata": {
        "id": "kBxqWUKFPMtG",
        "outputId": "8d0db8c4-81fe-4e1c-c879-4b0d92548bf4",
        "colab": {
          "base_uri": "https://localhost:8080/",
          "height": 33
        }
      },
      "source": [
        "%cd /content/anpr_yolov5/"
      ],
      "execution_count": 2,
      "outputs": [
        {
          "output_type": "stream",
          "text": [
            "/content/anpr_yolov5\n"
          ],
          "name": "stdout"
        }
      ]
    },
    {
      "cell_type": "code",
      "metadata": {
        "id": "KQan4PL0PQg3",
        "outputId": "2f6aeb04-5a74-4047-f351-88f41c24cf88",
        "colab": {
          "base_uri": "https://localhost:8080/",
          "height": 1000
        }
      },
      "source": [
        "!python detect.py --source sample_cars   --weights weights/last.pt --conf 0.4"
      ],
      "execution_count": 10,
      "outputs": [
        {
          "output_type": "stream",
          "text": [
            "Namespace(agnostic_nms=False, augment=False, classes=None, conf_thres=0.4, device='', fourcc='mp4v', img_size=640, iou_thres=0.5, output='inference/output', save_txt=False, source='sample_cars', view_img=False, weights='weights/last.pt')\n",
            "Using CPU\n",
            "\n",
            "/usr/local/lib/python3.6/dist-packages/torch/serialization.py:649: SourceChangeWarning: source code of class 'torch.nn.modules.container.Sequential' has changed. you can retrieve the original source code by accessing the object's source attribute or set `torch.nn.Module.dump_patches = True` and use the patch tool to revert the changes.\n",
            "  warnings.warn(msg, SourceChangeWarning)\n",
            "/usr/local/lib/python3.6/dist-packages/torch/serialization.py:649: SourceChangeWarning: source code of class 'torch.nn.modules.conv.Conv2d' has changed. you can retrieve the original source code by accessing the object's source attribute or set `torch.nn.Module.dump_patches = True` and use the patch tool to revert the changes.\n",
            "  warnings.warn(msg, SourceChangeWarning)\n",
            "/usr/local/lib/python3.6/dist-packages/torch/serialization.py:649: SourceChangeWarning: source code of class 'torch.nn.modules.batchnorm.BatchNorm2d' has changed. you can retrieve the original source code by accessing the object's source attribute or set `torch.nn.Module.dump_patches = True` and use the patch tool to revert the changes.\n",
            "  warnings.warn(msg, SourceChangeWarning)\n",
            "/usr/local/lib/python3.6/dist-packages/torch/serialization.py:649: SourceChangeWarning: source code of class 'torch.nn.modules.activation.LeakyReLU' has changed. you can retrieve the original source code by accessing the object's source attribute or set `torch.nn.Module.dump_patches = True` and use the patch tool to revert the changes.\n",
            "  warnings.warn(msg, SourceChangeWarning)\n",
            "/usr/local/lib/python3.6/dist-packages/torch/serialization.py:649: SourceChangeWarning: source code of class 'torch.nn.modules.container.ModuleList' has changed. you can retrieve the original source code by accessing the object's source attribute or set `torch.nn.Module.dump_patches = True` and use the patch tool to revert the changes.\n",
            "  warnings.warn(msg, SourceChangeWarning)\n",
            "/usr/local/lib/python3.6/dist-packages/torch/serialization.py:649: SourceChangeWarning: source code of class 'torch.nn.modules.pooling.MaxPool2d' has changed. you can retrieve the original source code by accessing the object's source attribute or set `torch.nn.Module.dump_patches = True` and use the patch tool to revert the changes.\n",
            "  warnings.warn(msg, SourceChangeWarning)\n",
            "/usr/local/lib/python3.6/dist-packages/torch/serialization.py:649: SourceChangeWarning: source code of class 'torch.nn.modules.upsampling.Upsample' has changed. you can retrieve the original source code by accessing the object's source attribute or set `torch.nn.Module.dump_patches = True` and use the patch tool to revert the changes.\n",
            "  warnings.warn(msg, SourceChangeWarning)\n",
            "image 1/7 sample_cars/car_0.jpg: 448x640 1 license_plates, Done. (0.352s)\n",
            "image 2/7 sample_cars/car_1.jpg: 384x640 Done. (0.288s)\n",
            "image 3/7 sample_cars/car_2.jpg: 512x640 1 license_plates, Done. (0.392s)\n",
            "image 4/7 sample_cars/car_3.jpg: 448x640 1 license_plates, Done. (0.327s)\n",
            "image 5/7 sample_cars/car_4.jpg: 512x640 2 license_plates, Done. (0.390s)\n",
            "video 6/7 (1/276) sample_cars/cars.mp4: 384x640 1 license_plates, Done. (0.285s)\n",
            "video 6/7 (2/276) sample_cars/cars.mp4: 384x640 1 license_plates, Done. (0.298s)\n",
            "video 6/7 (3/276) sample_cars/cars.mp4: 384x640 1 license_plates, Done. (0.287s)\n",
            "video 6/7 (4/276) sample_cars/cars.mp4: 384x640 Done. (0.280s)\n",
            "video 6/7 (5/276) sample_cars/cars.mp4: 384x640 Done. (0.284s)\n",
            "video 6/7 (6/276) sample_cars/cars.mp4: 384x640 Done. (0.283s)\n",
            "video 6/7 (7/276) sample_cars/cars.mp4: 384x640 Done. (0.278s)\n",
            "video 6/7 (8/276) sample_cars/cars.mp4: 384x640 Done. (0.286s)\n",
            "video 6/7 (9/276) sample_cars/cars.mp4: 384x640 1 license_plates, Done. (0.283s)\n",
            "video 6/7 (10/276) sample_cars/cars.mp4: 384x640 1 license_plates, Done. (0.281s)\n",
            "video 6/7 (11/276) sample_cars/cars.mp4: 384x640 1 license_plates, Done. (0.288s)\n",
            "video 6/7 (12/276) sample_cars/cars.mp4: 384x640 1 license_plates, Done. (0.277s)\n",
            "video 6/7 (13/276) sample_cars/cars.mp4: 384x640 1 license_plates, Done. (0.278s)\n",
            "video 6/7 (14/276) sample_cars/cars.mp4: 384x640 1 license_plates, Done. (0.298s)\n",
            "video 6/7 (15/276) sample_cars/cars.mp4: 384x640 1 license_plates, Done. (0.286s)\n",
            "video 6/7 (16/276) sample_cars/cars.mp4: 384x640 1 license_plates, Done. (0.286s)\n",
            "video 6/7 (17/276) sample_cars/cars.mp4: 384x640 1 license_plates, Done. (0.289s)\n",
            "video 6/7 (18/276) sample_cars/cars.mp4: 384x640 1 license_plates, Done. (0.291s)\n",
            "video 6/7 (19/276) sample_cars/cars.mp4: 384x640 1 license_plates, Done. (0.291s)\n",
            "video 6/7 (20/276) sample_cars/cars.mp4: 384x640 1 license_plates, Done. (0.296s)\n",
            "video 6/7 (21/276) sample_cars/cars.mp4: 384x640 Done. (0.278s)\n",
            "video 6/7 (22/276) sample_cars/cars.mp4: 384x640 1 license_plates, Done. (0.275s)\n",
            "video 6/7 (23/276) sample_cars/cars.mp4: 384x640 Done. (0.291s)\n",
            "video 6/7 (24/276) sample_cars/cars.mp4: 384x640 Done. (0.279s)\n",
            "video 6/7 (25/276) sample_cars/cars.mp4: 384x640 Done. (0.276s)\n",
            "video 6/7 (26/276) sample_cars/cars.mp4: 384x640 Done. (0.277s)\n",
            "video 6/7 (27/276) sample_cars/cars.mp4: 384x640 Done. (0.289s)\n",
            "video 6/7 (28/276) sample_cars/cars.mp4: 384x640 Done. (0.285s)\n",
            "video 6/7 (29/276) sample_cars/cars.mp4: 384x640 Done. (0.285s)\n",
            "video 6/7 (30/276) sample_cars/cars.mp4: 384x640 Done. (0.292s)\n",
            "video 6/7 (31/276) sample_cars/cars.mp4: 384x640 Done. (0.279s)\n",
            "video 6/7 (32/276) sample_cars/cars.mp4: 384x640 Done. (0.286s)\n",
            "video 6/7 (33/276) sample_cars/cars.mp4: 384x640 Done. (0.290s)\n",
            "video 6/7 (34/276) sample_cars/cars.mp4: 384x640 Done. (0.285s)\n",
            "video 6/7 (35/276) sample_cars/cars.mp4: 384x640 Done. (0.295s)\n",
            "video 6/7 (36/276) sample_cars/cars.mp4: 384x640 Done. (0.289s)\n",
            "video 6/7 (37/276) sample_cars/cars.mp4: 384x640 Done. (0.281s)\n",
            "video 6/7 (38/276) sample_cars/cars.mp4: 384x640 Done. (0.281s)\n",
            "video 6/7 (39/276) sample_cars/cars.mp4: 384x640 Done. (0.297s)\n",
            "video 6/7 (40/276) sample_cars/cars.mp4: 384x640 Done. (0.289s)\n",
            "video 6/7 (41/276) sample_cars/cars.mp4: 384x640 Done. (0.277s)\n",
            "video 6/7 (42/276) sample_cars/cars.mp4: 384x640 Done. (0.281s)\n",
            "video 6/7 (43/276) sample_cars/cars.mp4: 384x640 Done. (0.290s)\n",
            "video 6/7 (44/276) sample_cars/cars.mp4: 384x640 Done. (0.282s)\n",
            "video 6/7 (45/276) sample_cars/cars.mp4: 384x640 Done. (0.280s)\n",
            "video 6/7 (46/276) sample_cars/cars.mp4: 384x640 Done. (0.288s)\n",
            "video 6/7 (47/276) sample_cars/cars.mp4: 384x640 Done. (0.282s)\n",
            "video 6/7 (48/276) sample_cars/cars.mp4: 384x640 Done. (0.303s)\n",
            "video 6/7 (49/276) sample_cars/cars.mp4: 384x640 Done. (0.293s)\n",
            "video 6/7 (50/276) sample_cars/cars.mp4: 384x640 Done. (0.290s)\n",
            "video 6/7 (51/276) sample_cars/cars.mp4: 384x640 Done. (0.278s)\n",
            "video 6/7 (52/276) sample_cars/cars.mp4: 384x640 Done. (0.287s)\n",
            "video 6/7 (53/276) sample_cars/cars.mp4: 384x640 Done. (0.280s)\n",
            "video 6/7 (54/276) sample_cars/cars.mp4: 384x640 Done. (0.292s)\n",
            "video 6/7 (55/276) sample_cars/cars.mp4: 384x640 Done. (0.289s)\n",
            "video 6/7 (56/276) sample_cars/cars.mp4: 384x640 Done. (0.281s)\n",
            "video 6/7 (57/276) sample_cars/cars.mp4: 384x640 Done. (0.285s)\n",
            "video 6/7 (58/276) sample_cars/cars.mp4: 384x640 Done. (0.280s)\n",
            "video 6/7 (59/276) sample_cars/cars.mp4: 384x640 Done. (0.293s)\n",
            "video 6/7 (60/276) sample_cars/cars.mp4: 384x640 Done. (0.289s)\n",
            "video 6/7 (61/276) sample_cars/cars.mp4: 384x640 Done. (0.289s)\n",
            "video 6/7 (62/276) sample_cars/cars.mp4: 384x640 Done. (0.286s)\n",
            "video 6/7 (63/276) sample_cars/cars.mp4: 384x640 Done. (0.280s)\n",
            "video 6/7 (64/276) sample_cars/cars.mp4: 384x640 Done. (0.289s)\n",
            "video 6/7 (65/276) sample_cars/cars.mp4: 384x640 Done. (0.290s)\n",
            "video 6/7 (66/276) sample_cars/cars.mp4: 384x640 Done. (0.277s)\n",
            "video 6/7 (67/276) sample_cars/cars.mp4: 384x640 Done. (0.285s)\n",
            "video 6/7 (68/276) sample_cars/cars.mp4: 384x640 Done. (0.285s)\n",
            "video 6/7 (69/276) sample_cars/cars.mp4: 384x640 Done. (0.279s)\n",
            "video 6/7 (70/276) sample_cars/cars.mp4: 384x640 Done. (0.277s)\n",
            "video 6/7 (71/276) sample_cars/cars.mp4: 384x640 Done. (0.299s)\n",
            "video 6/7 (72/276) sample_cars/cars.mp4: 384x640 Done. (0.286s)\n",
            "video 6/7 (73/276) sample_cars/cars.mp4: 384x640 Done. (0.275s)\n",
            "video 6/7 (74/276) sample_cars/cars.mp4: 384x640 Done. (0.282s)\n",
            "video 6/7 (75/276) sample_cars/cars.mp4: 384x640 Done. (0.288s)\n",
            "video 6/7 (76/276) sample_cars/cars.mp4: 384x640 Done. (0.291s)\n",
            "video 6/7 (77/276) sample_cars/cars.mp4: 384x640 Done. (0.285s)\n",
            "video 6/7 (78/276) sample_cars/cars.mp4: 384x640 Done. (0.287s)\n",
            "video 6/7 (79/276) sample_cars/cars.mp4: 384x640 Done. (0.281s)\n",
            "video 6/7 (80/276) sample_cars/cars.mp4: 384x640 Done. (0.285s)\n",
            "video 6/7 (81/276) sample_cars/cars.mp4: 384x640 Done. (0.318s)\n",
            "video 6/7 (82/276) sample_cars/cars.mp4: 384x640 Done. (0.283s)\n",
            "video 6/7 (83/276) sample_cars/cars.mp4: 384x640 Done. (0.295s)\n",
            "video 6/7 (84/276) sample_cars/cars.mp4: 384x640 Done. (0.298s)\n",
            "video 6/7 (85/276) sample_cars/cars.mp4: 384x640 Done. (0.286s)\n",
            "video 6/7 (86/276) sample_cars/cars.mp4: 384x640 Done. (0.284s)\n",
            "video 6/7 (87/276) sample_cars/cars.mp4: 384x640 Done. (0.294s)\n",
            "video 6/7 (88/276) sample_cars/cars.mp4: 384x640 Done. (0.297s)\n",
            "video 6/7 (89/276) sample_cars/cars.mp4: 384x640 Done. (0.283s)\n",
            "video 6/7 (90/276) sample_cars/cars.mp4: 384x640 Done. (0.283s)\n",
            "video 6/7 (91/276) sample_cars/cars.mp4: 384x640 Done. (0.276s)\n",
            "video 6/7 (92/276) sample_cars/cars.mp4: 384x640 Done. (0.284s)\n",
            "video 6/7 (93/276) sample_cars/cars.mp4: 384x640 Done. (0.284s)\n",
            "video 6/7 (94/276) sample_cars/cars.mp4: 384x640 Done. (0.293s)\n",
            "video 6/7 (95/276) sample_cars/cars.mp4: 384x640 Done. (0.277s)\n",
            "video 6/7 (96/276) sample_cars/cars.mp4: 384x640 Done. (0.284s)\n",
            "video 6/7 (97/276) sample_cars/cars.mp4: 384x640 Done. (0.289s)\n",
            "video 6/7 (98/276) sample_cars/cars.mp4: 384x640 Done. (0.278s)\n",
            "video 6/7 (99/276) sample_cars/cars.mp4: 384x640 Done. (0.282s)\n",
            "video 6/7 (100/276) sample_cars/cars.mp4: 384x640 Done. (0.291s)\n",
            "video 6/7 (101/276) sample_cars/cars.mp4: 384x640 Done. (0.281s)\n",
            "video 6/7 (102/276) sample_cars/cars.mp4: 384x640 Done. (0.283s)\n",
            "video 6/7 (103/276) sample_cars/cars.mp4: 384x640 Done. (0.286s)\n",
            "video 6/7 (104/276) sample_cars/cars.mp4: 384x640 Done. (0.289s)\n",
            "video 6/7 (105/276) sample_cars/cars.mp4: 384x640 Done. (0.275s)\n",
            "video 6/7 (106/276) sample_cars/cars.mp4: 384x640 Done. (0.279s)\n",
            "video 6/7 (107/276) sample_cars/cars.mp4: 384x640 Done. (0.282s)\n",
            "video 6/7 (108/276) sample_cars/cars.mp4: 384x640 Done. (0.285s)\n",
            "video 6/7 (109/276) sample_cars/cars.mp4: 384x640 Done. (0.277s)\n",
            "video 6/7 (110/276) sample_cars/cars.mp4: 384x640 Done. (0.285s)\n",
            "video 6/7 (111/276) sample_cars/cars.mp4: 384x640 Done. (0.282s)\n",
            "video 6/7 (112/276) sample_cars/cars.mp4: 384x640 Done. (0.276s)\n",
            "video 6/7 (113/276) sample_cars/cars.mp4: 384x640 Done. (0.282s)\n",
            "video 6/7 (114/276) sample_cars/cars.mp4: 384x640 Done. (0.288s)\n",
            "video 6/7 (115/276) sample_cars/cars.mp4: 384x640 Done. (0.282s)\n",
            "video 6/7 (116/276) sample_cars/cars.mp4: 384x640 Done. (0.283s)\n",
            "video 6/7 (117/276) sample_cars/cars.mp4: 384x640 Done. (0.277s)\n",
            "video 6/7 (118/276) sample_cars/cars.mp4: 384x640 Done. (0.278s)\n",
            "video 6/7 (119/276) sample_cars/cars.mp4: 384x640 Done. (0.275s)\n",
            "video 6/7 (120/276) sample_cars/cars.mp4: 384x640 Done. (0.284s)\n",
            "video 6/7 (121/276) sample_cars/cars.mp4: 384x640 Done. (0.279s)\n",
            "video 6/7 (122/276) sample_cars/cars.mp4: 384x640 Done. (0.285s)\n",
            "video 6/7 (123/276) sample_cars/cars.mp4: 384x640 Done. (0.285s)\n",
            "video 6/7 (124/276) sample_cars/cars.mp4: 384x640 Done. (0.280s)\n",
            "video 6/7 (125/276) sample_cars/cars.mp4: 384x640 Done. (0.276s)\n",
            "video 6/7 (126/276) sample_cars/cars.mp4: 384x640 Done. (0.289s)\n",
            "video 6/7 (127/276) sample_cars/cars.mp4: 384x640 Done. (0.273s)\n",
            "video 6/7 (128/276) sample_cars/cars.mp4: 384x640 Done. (0.286s)\n",
            "video 6/7 (129/276) sample_cars/cars.mp4: 384x640 Done. (0.291s)\n",
            "video 6/7 (130/276) sample_cars/cars.mp4: 384x640 Done. (0.286s)\n",
            "video 6/7 (131/276) sample_cars/cars.mp4: 384x640 Done. (0.286s)\n",
            "video 6/7 (132/276) sample_cars/cars.mp4: 384x640 Done. (0.282s)\n",
            "video 6/7 (133/276) sample_cars/cars.mp4: 384x640 Done. (0.285s)\n",
            "video 6/7 (134/276) sample_cars/cars.mp4: 384x640 Done. (0.275s)\n",
            "video 6/7 (135/276) sample_cars/cars.mp4: 384x640 Done. (0.279s)\n",
            "video 6/7 (136/276) sample_cars/cars.mp4: 384x640 Done. (0.280s)\n",
            "video 6/7 (137/276) sample_cars/cars.mp4: 384x640 Done. (0.274s)\n",
            "video 6/7 (138/276) sample_cars/cars.mp4: 384x640 Done. (0.287s)\n",
            "video 6/7 (139/276) sample_cars/cars.mp4: 384x640 Done. (0.284s)\n",
            "video 6/7 (140/276) sample_cars/cars.mp4: 384x640 Done. (0.280s)\n",
            "video 6/7 (141/276) sample_cars/cars.mp4: 384x640 Done. (0.284s)\n",
            "video 6/7 (142/276) sample_cars/cars.mp4: 384x640 Done. (0.288s)\n",
            "video 6/7 (143/276) sample_cars/cars.mp4: 384x640 Done. (0.287s)\n",
            "video 6/7 (144/276) sample_cars/cars.mp4: 384x640 Done. (0.280s)\n",
            "video 6/7 (145/276) sample_cars/cars.mp4: 384x640 Done. (0.283s)\n",
            "video 6/7 (146/276) sample_cars/cars.mp4: 384x640 Done. (0.279s)\n",
            "video 6/7 (147/276) sample_cars/cars.mp4: 384x640 Done. (0.281s)\n",
            "video 6/7 (148/276) sample_cars/cars.mp4: 384x640 Done. (0.271s)\n",
            "video 6/7 (149/276) sample_cars/cars.mp4: 384x640 Done. (0.295s)\n",
            "video 6/7 (150/276) sample_cars/cars.mp4: 384x640 Done. (0.276s)\n",
            "video 6/7 (151/276) sample_cars/cars.mp4: 384x640 Done. (0.272s)\n",
            "video 6/7 (152/276) sample_cars/cars.mp4: 384x640 Done. (0.275s)\n",
            "video 6/7 (153/276) sample_cars/cars.mp4: 384x640 Done. (0.282s)\n",
            "video 6/7 (154/276) sample_cars/cars.mp4: 384x640 Done. (0.279s)\n",
            "video 6/7 (155/276) sample_cars/cars.mp4: 384x640 Done. (0.281s)\n",
            "video 6/7 (156/276) sample_cars/cars.mp4: 384x640 Done. (0.283s)\n",
            "video 6/7 (157/276) sample_cars/cars.mp4: 384x640 Done. (0.275s)\n",
            "video 6/7 (158/276) sample_cars/cars.mp4: 384x640 Done. (0.280s)\n",
            "video 6/7 (159/276) sample_cars/cars.mp4: 384x640 Done. (0.284s)\n",
            "video 6/7 (160/276) sample_cars/cars.mp4: 384x640 Done. (0.286s)\n",
            "video 6/7 (161/276) sample_cars/cars.mp4: 384x640 Done. (0.275s)\n",
            "video 6/7 (162/276) sample_cars/cars.mp4: 384x640 Done. (0.286s)\n",
            "video 6/7 (163/276) sample_cars/cars.mp4: 384x640 Done. (0.277s)\n",
            "video 6/7 (164/276) sample_cars/cars.mp4: 384x640 Done. (0.276s)\n",
            "video 6/7 (165/276) sample_cars/cars.mp4: 384x640 Done. (0.285s)\n",
            "video 6/7 (166/276) sample_cars/cars.mp4: 384x640 Done. (0.274s)\n",
            "video 6/7 (167/276) sample_cars/cars.mp4: 384x640 Done. (0.285s)\n",
            "video 6/7 (168/276) sample_cars/cars.mp4: 384x640 Done. (0.281s)\n",
            "video 6/7 (169/276) sample_cars/cars.mp4: 384x640 Done. (0.273s)\n",
            "video 6/7 (170/276) sample_cars/cars.mp4: 384x640 Done. (0.290s)\n",
            "video 6/7 (171/276) sample_cars/cars.mp4: 384x640 Done. (0.281s)\n",
            "video 6/7 (172/276) sample_cars/cars.mp4: 384x640 Done. (0.287s)\n",
            "video 6/7 (173/276) sample_cars/cars.mp4: 384x640 Done. (0.278s)\n",
            "video 6/7 (174/276) sample_cars/cars.mp4: 384x640 Done. (0.288s)\n",
            "video 6/7 (175/276) sample_cars/cars.mp4: 384x640 Done. (0.286s)\n",
            "video 6/7 (176/276) sample_cars/cars.mp4: 384x640 Done. (0.286s)\n",
            "video 6/7 (177/276) sample_cars/cars.mp4: 384x640 Done. (0.284s)\n",
            "video 6/7 (178/276) sample_cars/cars.mp4: 384x640 Done. (0.293s)\n",
            "video 6/7 (179/276) sample_cars/cars.mp4: 384x640 Done. (0.280s)\n",
            "video 6/7 (180/276) sample_cars/cars.mp4: 384x640 Done. (0.284s)\n",
            "video 6/7 (181/276) sample_cars/cars.mp4: 384x640 Done. (0.304s)\n",
            "video 6/7 (182/276) sample_cars/cars.mp4: 384x640 Done. (0.284s)\n",
            "video 6/7 (183/276) sample_cars/cars.mp4: 384x640 Done. (0.285s)\n",
            "video 6/7 (184/276) sample_cars/cars.mp4: 384x640 Done. (0.276s)\n",
            "video 6/7 (185/276) sample_cars/cars.mp4: 384x640 Done. (0.281s)\n",
            "video 6/7 (186/276) sample_cars/cars.mp4: 384x640 Done. (0.283s)\n",
            "video 6/7 (187/276) sample_cars/cars.mp4: 384x640 Done. (0.272s)\n",
            "video 6/7 (188/276) sample_cars/cars.mp4: 384x640 Done. (0.280s)\n",
            "video 6/7 (189/276) sample_cars/cars.mp4: 384x640 Done. (0.288s)\n",
            "video 6/7 (190/276) sample_cars/cars.mp4: 384x640 Done. (0.280s)\n",
            "video 6/7 (191/276) sample_cars/cars.mp4: 384x640 Done. (0.289s)\n",
            "video 6/7 (192/276) sample_cars/cars.mp4: 384x640 Done. (0.285s)\n",
            "video 6/7 (193/276) sample_cars/cars.mp4: 384x640 Done. (0.286s)\n",
            "video 6/7 (194/276) sample_cars/cars.mp4: 384x640 Done. (0.284s)\n",
            "video 6/7 (195/276) sample_cars/cars.mp4: 384x640 Done. (0.278s)\n",
            "video 6/7 (196/276) sample_cars/cars.mp4: 384x640 Done. (0.284s)\n",
            "video 6/7 (197/276) sample_cars/cars.mp4: 384x640 Done. (0.278s)\n",
            "video 6/7 (198/276) sample_cars/cars.mp4: 384x640 Done. (0.284s)\n",
            "video 6/7 (199/276) sample_cars/cars.mp4: 384x640 Done. (0.294s)\n",
            "video 6/7 (200/276) sample_cars/cars.mp4: 384x640 Done. (0.285s)\n",
            "video 6/7 (201/276) sample_cars/cars.mp4: 384x640 Done. (0.288s)\n",
            "video 6/7 (202/276) sample_cars/cars.mp4: 384x640 Done. (0.289s)\n",
            "video 6/7 (203/276) sample_cars/cars.mp4: 384x640 Done. (0.276s)\n",
            "video 6/7 (204/276) sample_cars/cars.mp4: 384x640 Done. (0.287s)\n",
            "video 6/7 (205/276) sample_cars/cars.mp4: 384x640 Done. (0.293s)\n",
            "video 6/7 (206/276) sample_cars/cars.mp4: 384x640 Done. (0.284s)\n",
            "video 6/7 (207/276) sample_cars/cars.mp4: 384x640 Done. (0.285s)\n",
            "video 6/7 (208/276) sample_cars/cars.mp4: 384x640 Done. (0.280s)\n",
            "video 6/7 (209/276) sample_cars/cars.mp4: 384x640 Done. (0.283s)\n",
            "video 6/7 (210/276) sample_cars/cars.mp4: 384x640 Done. (0.279s)\n",
            "video 6/7 (211/276) sample_cars/cars.mp4: 384x640 Done. (0.278s)\n",
            "video 6/7 (212/276) sample_cars/cars.mp4: 384x640 Done. (0.283s)\n",
            "video 6/7 (213/276) sample_cars/cars.mp4: 384x640 Done. (0.284s)\n",
            "video 6/7 (214/276) sample_cars/cars.mp4: 384x640 Done. (0.281s)\n",
            "video 6/7 (215/276) sample_cars/cars.mp4: 384x640 Done. (0.275s)\n",
            "video 6/7 (216/276) sample_cars/cars.mp4: 384x640 Done. (0.277s)\n",
            "video 6/7 (217/276) sample_cars/cars.mp4: 384x640 Done. (0.288s)\n",
            "video 6/7 (218/276) sample_cars/cars.mp4: 384x640 Done. (0.284s)\n",
            "video 6/7 (219/276) sample_cars/cars.mp4: 384x640 Done. (0.280s)\n",
            "video 6/7 (220/276) sample_cars/cars.mp4: 384x640 Done. (0.292s)\n",
            "video 6/7 (221/276) sample_cars/cars.mp4: 384x640 Done. (0.282s)\n",
            "video 6/7 (222/276) sample_cars/cars.mp4: 384x640 Done. (0.276s)\n",
            "video 6/7 (223/276) sample_cars/cars.mp4: 384x640 Done. (0.285s)\n",
            "video 6/7 (224/276) sample_cars/cars.mp4: 384x640 Done. (0.287s)\n",
            "video 6/7 (225/276) sample_cars/cars.mp4: 384x640 Done. (0.282s)\n",
            "video 6/7 (226/276) sample_cars/cars.mp4: 384x640 Done. (0.285s)\n",
            "video 6/7 (227/276) sample_cars/cars.mp4: 384x640 Done. (0.289s)\n",
            "video 6/7 (228/276) sample_cars/cars.mp4: 384x640 Done. (0.281s)\n",
            "video 6/7 (229/276) sample_cars/cars.mp4: 384x640 Done. (0.278s)\n",
            "video 6/7 (230/276) sample_cars/cars.mp4: 384x640 Done. (0.291s)\n",
            "video 6/7 (231/276) sample_cars/cars.mp4: 384x640 Done. (0.279s)\n",
            "video 6/7 (232/276) sample_cars/cars.mp4: 384x640 Done. (0.274s)\n",
            "video 6/7 (233/276) sample_cars/cars.mp4: 384x640 Done. (0.284s)\n",
            "video 6/7 (234/276) sample_cars/cars.mp4: 384x640 Done. (0.273s)\n",
            "video 6/7 (235/276) sample_cars/cars.mp4: 384x640 Done. (0.277s)\n",
            "video 6/7 (236/276) sample_cars/cars.mp4: 384x640 Done. (0.282s)\n",
            "video 6/7 (237/276) sample_cars/cars.mp4: 384x640 Done. (0.294s)\n",
            "video 6/7 (238/276) sample_cars/cars.mp4: 384x640 Done. (0.286s)\n",
            "video 6/7 (239/276) sample_cars/cars.mp4: 384x640 Done. (0.281s)\n",
            "video 6/7 (240/276) sample_cars/cars.mp4: 384x640 Done. (0.286s)\n",
            "video 6/7 (241/276) sample_cars/cars.mp4: 384x640 Done. (0.277s)\n",
            "video 6/7 (242/276) sample_cars/cars.mp4: 384x640 Done. (0.287s)\n",
            "video 6/7 (243/276) sample_cars/cars.mp4: 384x640 Done. (0.288s)\n",
            "video 6/7 (244/276) sample_cars/cars.mp4: 384x640 Done. (0.282s)\n",
            "video 6/7 (245/276) sample_cars/cars.mp4: 384x640 Done. (0.296s)\n",
            "video 6/7 (246/276) sample_cars/cars.mp4: 384x640 Done. (0.297s)\n",
            "video 6/7 (247/276) sample_cars/cars.mp4: 384x640 Done. (0.282s)\n",
            "video 6/7 (248/276) sample_cars/cars.mp4: 384x640 Done. (0.289s)\n",
            "video 6/7 (249/276) sample_cars/cars.mp4: 384x640 Done. (0.288s)\n",
            "video 6/7 (250/276) sample_cars/cars.mp4: 384x640 Done. (0.283s)\n",
            "video 6/7 (251/276) sample_cars/cars.mp4: 384x640 Done. (0.280s)\n",
            "video 6/7 (252/276) sample_cars/cars.mp4: 384x640 Done. (0.283s)\n",
            "video 6/7 (253/276) sample_cars/cars.mp4: 384x640 Done. (0.284s)\n",
            "video 6/7 (254/276) sample_cars/cars.mp4: 384x640 Done. (0.283s)\n",
            "video 6/7 (255/276) sample_cars/cars.mp4: 384x640 Done. (0.279s)\n",
            "video 6/7 (256/276) sample_cars/cars.mp4: 384x640 Done. (0.289s)\n",
            "video 6/7 (257/276) sample_cars/cars.mp4: 384x640 Done. (0.274s)\n",
            "video 6/7 (258/276) sample_cars/cars.mp4: 384x640 Done. (0.269s)\n",
            "video 6/7 (259/276) sample_cars/cars.mp4: 384x640 Done. (0.296s)\n",
            "video 6/7 (260/276) sample_cars/cars.mp4: 384x640 Done. (0.276s)\n",
            "video 6/7 (261/276) sample_cars/cars.mp4: 384x640 Done. (0.275s)\n",
            "video 6/7 (262/276) sample_cars/cars.mp4: 384x640 Done. (0.292s)\n",
            "video 6/7 (263/276) sample_cars/cars.mp4: 384x640 Done. (0.282s)\n",
            "video 6/7 (264/276) sample_cars/cars.mp4: 384x640 Done. (0.275s)\n",
            "video 6/7 (265/276) sample_cars/cars.mp4: 384x640 Done. (0.292s)\n",
            "video 6/7 (266/276) sample_cars/cars.mp4: 384x640 Done. (0.279s)\n",
            "video 6/7 (267/276) sample_cars/cars.mp4: 384x640 Done. (0.292s)\n",
            "video 6/7 (268/276) sample_cars/cars.mp4: 384x640 Done. (0.280s)\n",
            "video 6/7 (269/276) sample_cars/cars.mp4: 384x640 Done. (0.281s)\n",
            "video 6/7 (270/276) sample_cars/cars.mp4: 384x640 Done. (0.277s)\n",
            "video 6/7 (271/276) sample_cars/cars.mp4: 384x640 Done. (0.279s)\n",
            "video 6/7 (272/276) sample_cars/cars.mp4: 384x640 Done. (0.297s)\n",
            "video 6/7 (273/276) sample_cars/cars.mp4: 384x640 Done. (0.282s)\n",
            "video 6/7 (274/276) sample_cars/cars.mp4: 384x640 Done. (0.278s)\n",
            "video 6/7 (275/276) sample_cars/cars.mp4: 384x640 Done. (0.289s)\n",
            "video 6/7 (276/276) sample_cars/cars.mp4: 384x640 Done. (0.290s)\n",
            "video 7/7 (1/140) sample_cars/license_plate.mp4: 384x640 Done. (0.285s)\n",
            "video 7/7 (2/140) sample_cars/license_plate.mp4: 384x640 Done. (0.282s)\n",
            "video 7/7 (3/140) sample_cars/license_plate.mp4: 384x640 Done. (0.283s)\n",
            "video 7/7 (4/140) sample_cars/license_plate.mp4: 384x640 Done. (0.277s)\n",
            "video 7/7 (5/140) sample_cars/license_plate.mp4: 384x640 Done. (0.279s)\n",
            "video 7/7 (6/140) sample_cars/license_plate.mp4: 384x640 Done. (0.280s)\n",
            "video 7/7 (7/140) sample_cars/license_plate.mp4: 384x640 Done. (0.276s)\n",
            "video 7/7 (8/140) sample_cars/license_plate.mp4: 384x640 Done. (0.282s)\n",
            "video 7/7 (9/140) sample_cars/license_plate.mp4: 384x640 Done. (0.301s)\n",
            "video 7/7 (10/140) sample_cars/license_plate.mp4: 384x640 Done. (0.283s)\n",
            "video 7/7 (11/140) sample_cars/license_plate.mp4: 384x640 Done. (0.291s)\n",
            "video 7/7 (12/140) sample_cars/license_plate.mp4: 384x640 Done. (0.297s)\n",
            "video 7/7 (13/140) sample_cars/license_plate.mp4: 384x640 Done. (0.277s)\n",
            "video 7/7 (14/140) sample_cars/license_plate.mp4: 384x640 Done. (0.281s)\n",
            "video 7/7 (15/140) sample_cars/license_plate.mp4: 384x640 Done. (0.283s)\n",
            "video 7/7 (16/140) sample_cars/license_plate.mp4: 384x640 Done. (0.292s)\n",
            "video 7/7 (17/140) sample_cars/license_plate.mp4: 384x640 Done. (0.280s)\n",
            "video 7/7 (18/140) sample_cars/license_plate.mp4: 384x640 Done. (0.275s)\n",
            "video 7/7 (19/140) sample_cars/license_plate.mp4: 384x640 Done. (0.284s)\n",
            "video 7/7 (20/140) sample_cars/license_plate.mp4: 384x640 Done. (0.296s)\n",
            "video 7/7 (21/140) sample_cars/license_plate.mp4: 384x640 Done. (0.280s)\n",
            "video 7/7 (22/140) sample_cars/license_plate.mp4: 384x640 Done. (0.279s)\n",
            "video 7/7 (23/140) sample_cars/license_plate.mp4: 384x640 Done. (0.292s)\n",
            "video 7/7 (24/140) sample_cars/license_plate.mp4: 384x640 Done. (0.281s)\n",
            "video 7/7 (25/140) sample_cars/license_plate.mp4: 384x640 Done. (0.290s)\n",
            "video 7/7 (26/140) sample_cars/license_plate.mp4: 384x640 Done. (0.285s)\n",
            "video 7/7 (27/140) sample_cars/license_plate.mp4: 384x640 Done. (0.289s)\n",
            "video 7/7 (28/140) sample_cars/license_plate.mp4: 384x640 Done. (0.278s)\n",
            "video 7/7 (29/140) sample_cars/license_plate.mp4: 384x640 Done. (0.291s)\n",
            "video 7/7 (30/140) sample_cars/license_plate.mp4: 384x640 Done. (0.281s)\n",
            "video 7/7 (31/140) sample_cars/license_plate.mp4: 384x640 Done. (0.284s)\n",
            "video 7/7 (32/140) sample_cars/license_plate.mp4: 384x640 Done. (0.282s)\n",
            "video 7/7 (33/140) sample_cars/license_plate.mp4: 384x640 Done. (0.287s)\n",
            "video 7/7 (34/140) sample_cars/license_plate.mp4: 384x640 Done. (0.290s)\n",
            "video 7/7 (35/140) sample_cars/license_plate.mp4: 384x640 Done. (0.280s)\n",
            "video 7/7 (36/140) sample_cars/license_plate.mp4: 384x640 Done. (0.281s)\n",
            "video 7/7 (37/140) sample_cars/license_plate.mp4: 384x640 Done. (0.280s)\n",
            "video 7/7 (38/140) sample_cars/license_plate.mp4: 384x640 Done. (0.280s)\n",
            "video 7/7 (39/140) sample_cars/license_plate.mp4: 384x640 Done. (0.285s)\n",
            "video 7/7 (40/140) sample_cars/license_plate.mp4: 384x640 Done. (0.281s)\n",
            "video 7/7 (41/140) sample_cars/license_plate.mp4: 384x640 Done. (0.274s)\n",
            "video 7/7 (42/140) sample_cars/license_plate.mp4: 384x640 Done. (0.281s)\n",
            "video 7/7 (43/140) sample_cars/license_plate.mp4: 384x640 Done. (0.289s)\n",
            "video 7/7 (44/140) sample_cars/license_plate.mp4: 384x640 Done. (0.273s)\n",
            "video 7/7 (45/140) sample_cars/license_plate.mp4: 384x640 Done. (0.282s)\n",
            "video 7/7 (46/140) sample_cars/license_plate.mp4: 384x640 Done. (0.288s)\n",
            "video 7/7 (47/140) sample_cars/license_plate.mp4: 384x640 Done. (0.287s)\n",
            "video 7/7 (48/140) sample_cars/license_plate.mp4: 384x640 Done. (0.281s)\n",
            "video 7/7 (49/140) sample_cars/license_plate.mp4: 384x640 Done. (0.279s)\n",
            "video 7/7 (50/140) sample_cars/license_plate.mp4: 384x640 Done. (0.295s)\n",
            "video 7/7 (51/140) sample_cars/license_plate.mp4: 384x640 Done. (0.282s)\n",
            "video 7/7 (52/140) sample_cars/license_plate.mp4: 384x640 Done. (0.282s)\n",
            "video 7/7 (53/140) sample_cars/license_plate.mp4: 384x640 Done. (0.282s)\n",
            "video 7/7 (54/140) sample_cars/license_plate.mp4: 384x640 Done. (0.287s)\n",
            "video 7/7 (55/140) sample_cars/license_plate.mp4: 384x640 Done. (0.280s)\n",
            "video 7/7 (56/140) sample_cars/license_plate.mp4: 384x640 Done. (0.277s)\n",
            "video 7/7 (57/140) sample_cars/license_plate.mp4: 384x640 Done. (0.292s)\n",
            "video 7/7 (58/140) sample_cars/license_plate.mp4: 384x640 Done. (0.281s)\n",
            "video 7/7 (59/140) sample_cars/license_plate.mp4: 384x640 Done. (0.287s)\n",
            "video 7/7 (60/140) sample_cars/license_plate.mp4: 384x640 Done. (0.285s)\n",
            "video 7/7 (61/140) sample_cars/license_plate.mp4: 384x640 Done. (0.276s)\n",
            "video 7/7 (62/140) sample_cars/license_plate.mp4: 384x640 Done. (0.291s)\n",
            "video 7/7 (63/140) sample_cars/license_plate.mp4: 384x640 Done. (0.274s)\n",
            "video 7/7 (64/140) sample_cars/license_plate.mp4: 384x640 Done. (0.285s)\n",
            "video 7/7 (65/140) sample_cars/license_plate.mp4: 384x640 Done. (0.276s)\n",
            "video 7/7 (66/140) sample_cars/license_plate.mp4: 384x640 Done. (0.285s)\n",
            "video 7/7 (67/140) sample_cars/license_plate.mp4: 384x640 Done. (0.276s)\n",
            "video 7/7 (68/140) sample_cars/license_plate.mp4: 384x640 Done. (0.280s)\n",
            "video 7/7 (69/140) sample_cars/license_plate.mp4: 384x640 Done. (0.286s)\n",
            "video 7/7 (70/140) sample_cars/license_plate.mp4: 384x640 Done. (0.280s)\n",
            "video 7/7 (71/140) sample_cars/license_plate.mp4: 384x640 Done. (0.274s)\n",
            "video 7/7 (72/140) sample_cars/license_plate.mp4: 384x640 Done. (0.279s)\n",
            "video 7/7 (73/140) sample_cars/license_plate.mp4: 384x640 Done. (0.290s)\n",
            "video 7/7 (74/140) sample_cars/license_plate.mp4: 384x640 Done. (0.283s)\n",
            "video 7/7 (75/140) sample_cars/license_plate.mp4: 384x640 Done. (0.277s)\n",
            "video 7/7 (76/140) sample_cars/license_plate.mp4: 384x640 Done. (0.287s)\n",
            "video 7/7 (77/140) sample_cars/license_plate.mp4: 384x640 Done. (0.294s)\n",
            "video 7/7 (78/140) sample_cars/license_plate.mp4: 384x640 Done. (0.273s)\n",
            "video 7/7 (79/140) sample_cars/license_plate.mp4: 384x640 Done. (0.280s)\n",
            "video 7/7 (80/140) sample_cars/license_plate.mp4: 384x640 Done. (0.278s)\n",
            "video 7/7 (81/140) sample_cars/license_plate.mp4: 384x640 Done. (0.283s)\n",
            "video 7/7 (82/140) sample_cars/license_plate.mp4: 384x640 Done. (0.282s)\n",
            "video 7/7 (83/140) sample_cars/license_plate.mp4: 384x640 Done. (0.283s)\n",
            "video 7/7 (84/140) sample_cars/license_plate.mp4: 384x640 Done. (0.290s)\n",
            "video 7/7 (85/140) sample_cars/license_plate.mp4: 384x640 Done. (0.279s)\n",
            "video 7/7 (86/140) sample_cars/license_plate.mp4: 384x640 Done. (0.277s)\n",
            "video 7/7 (87/140) sample_cars/license_plate.mp4: 384x640 Done. (0.272s)\n",
            "video 7/7 (88/140) sample_cars/license_plate.mp4: 384x640 Done. (0.289s)\n",
            "video 7/7 (89/140) sample_cars/license_plate.mp4: 384x640 Done. (0.277s)\n",
            "video 7/7 (90/140) sample_cars/license_plate.mp4: 384x640 Done. (0.282s)\n",
            "video 7/7 (91/140) sample_cars/license_plate.mp4: 384x640 Done. (0.281s)\n",
            "video 7/7 (92/140) sample_cars/license_plate.mp4: 384x640 Done. (0.276s)\n",
            "video 7/7 (93/140) sample_cars/license_plate.mp4: 384x640 Done. (0.283s)\n",
            "video 7/7 (94/140) sample_cars/license_plate.mp4: 384x640 Done. (0.273s)\n",
            "video 7/7 (95/140) sample_cars/license_plate.mp4: 384x640 Done. (0.281s)\n",
            "video 7/7 (96/140) sample_cars/license_plate.mp4: 384x640 Done. (0.282s)\n",
            "video 7/7 (97/140) sample_cars/license_plate.mp4: 384x640 Done. (0.294s)\n",
            "video 7/7 (98/140) sample_cars/license_plate.mp4: 384x640 Done. (0.293s)\n",
            "video 7/7 (99/140) sample_cars/license_plate.mp4: 384x640 Done. (0.284s)\n",
            "video 7/7 (100/140) sample_cars/license_plate.mp4: 384x640 Done. (0.285s)\n",
            "video 7/7 (101/140) sample_cars/license_plate.mp4: 384x640 Done. (0.286s)\n",
            "video 7/7 (102/140) sample_cars/license_plate.mp4: 384x640 Done. (0.277s)\n",
            "video 7/7 (103/140) sample_cars/license_plate.mp4: 384x640 1 license_plates, Done. (0.279s)\n",
            "video 7/7 (104/140) sample_cars/license_plate.mp4: 384x640 1 license_plates, Done. (0.277s)\n",
            "video 7/7 (105/140) sample_cars/license_plate.mp4: 384x640 1 license_plates, Done. (0.291s)\n",
            "video 7/7 (106/140) sample_cars/license_plate.mp4: 384x640 1 license_plates, Done. (0.279s)\n",
            "video 7/7 (107/140) sample_cars/license_plate.mp4: 384x640 1 license_plates, Done. (0.273s)\n",
            "video 7/7 (108/140) sample_cars/license_plate.mp4: 384x640 1 license_plates, Done. (0.280s)\n",
            "video 7/7 (109/140) sample_cars/license_plate.mp4: 384x640 1 license_plates, Done. (0.281s)\n",
            "video 7/7 (110/140) sample_cars/license_plate.mp4: 384x640 1 license_plates, Done. (0.279s)\n",
            "video 7/7 (111/140) sample_cars/license_plate.mp4: 384x640 1 license_plates, Done. (0.280s)\n",
            "video 7/7 (112/140) sample_cars/license_plate.mp4: 384x640 1 license_plates, Done. (0.292s)\n",
            "video 7/7 (113/140) sample_cars/license_plate.mp4: 384x640 1 license_plates, Done. (0.276s)\n",
            "video 7/7 (114/140) sample_cars/license_plate.mp4: 384x640 1 license_plates, Done. (0.279s)\n",
            "video 7/7 (115/140) sample_cars/license_plate.mp4: 384x640 1 license_plates, Done. (0.290s)\n",
            "video 7/7 (116/140) sample_cars/license_plate.mp4: 384x640 1 license_plates, Done. (0.288s)\n",
            "video 7/7 (117/140) sample_cars/license_plate.mp4: 384x640 1 license_plates, Done. (0.282s)\n",
            "video 7/7 (118/140) sample_cars/license_plate.mp4: 384x640 1 license_plates, Done. (0.276s)\n",
            "video 7/7 (119/140) sample_cars/license_plate.mp4: 384x640 1 license_plates, Done. (0.279s)\n",
            "video 7/7 (120/140) sample_cars/license_plate.mp4: 384x640 1 license_plates, Done. (0.300s)\n",
            "video 7/7 (121/140) sample_cars/license_plate.mp4: 384x640 1 license_plates, Done. (0.284s)\n",
            "video 7/7 (122/140) sample_cars/license_plate.mp4: 384x640 1 license_plates, Done. (0.294s)\n",
            "video 7/7 (123/140) sample_cars/license_plate.mp4: 384x640 1 license_plates, Done. (0.283s)\n",
            "video 7/7 (124/140) sample_cars/license_plate.mp4: 384x640 1 license_plates, Done. (0.283s)\n",
            "video 7/7 (125/140) sample_cars/license_plate.mp4: 384x640 1 license_plates, Done. (0.281s)\n",
            "video 7/7 (126/140) sample_cars/license_plate.mp4: 384x640 1 license_plates, Done. (0.286s)\n",
            "video 7/7 (127/140) sample_cars/license_plate.mp4: 384x640 1 license_plates, Done. (0.275s)\n",
            "video 7/7 (128/140) sample_cars/license_plate.mp4: 384x640 1 license_plates, Done. (0.278s)\n",
            "video 7/7 (129/140) sample_cars/license_plate.mp4: 384x640 1 license_plates, Done. (0.276s)\n",
            "video 7/7 (130/140) sample_cars/license_plate.mp4: 384x640 1 license_plates, Done. (0.272s)\n",
            "video 7/7 (131/140) sample_cars/license_plate.mp4: 384x640 1 license_plates, Done. (0.276s)\n",
            "video 7/7 (132/140) sample_cars/license_plate.mp4: 384x640 1 license_plates, Done. (0.277s)\n",
            "video 7/7 (133/140) sample_cars/license_plate.mp4: 384x640 1 license_plates, Done. (0.287s)\n",
            "video 7/7 (134/140) sample_cars/license_plate.mp4: 384x640 1 license_plates, Done. (0.282s)\n",
            "video 7/7 (135/140) sample_cars/license_plate.mp4: 384x640 1 license_plates, Done. (0.276s)\n",
            "video 7/7 (136/140) sample_cars/license_plate.mp4: 384x640 1 license_plates, Done. (0.278s)\n",
            "video 7/7 (137/140) sample_cars/license_plate.mp4: 384x640 1 license_plates, Done. (0.286s)\n",
            "video 7/7 (138/140) sample_cars/license_plate.mp4: 384x640 1 license_plates, Done. (0.276s)\n",
            "video 7/7 (139/140) sample_cars/license_plate.mp4: 384x640 1 license_plates, Done. (0.286s)\n",
            "video 7/7 (140/140) sample_cars/license_plate.mp4: 384x640 1 license_plates, Done. (0.289s)\n",
            "Results saved to /content/anpr_yolov5/inference/output\n",
            "Done. (130.451s)\n"
          ],
          "name": "stdout"
        }
      ]
    },
    {
      "cell_type": "code",
      "metadata": {
        "id": "0DPWxuFlE5oB",
        "outputId": "94483e03-e628-401b-a387-5c82b8c92b46",
        "colab": {
          "base_uri": "https://localhost:8080/",
          "height": 33
        }
      },
      "source": [
        "import os\n",
        "print(os.listdir('/content/anpr_yolov5/inference/output'))"
      ],
      "execution_count": 11,
      "outputs": [
        {
          "output_type": "stream",
          "text": [
            "['car_3.jpg', 'cars.mp4', 'car_2.jpg', 'license_plate.mp4', 'car_1.jpg', 'car_0.jpg', 'car_4.jpg']\n"
          ],
          "name": "stdout"
        }
      ]
    },
    {
      "cell_type": "code",
      "metadata": {
        "id": "i7TEtpj-E8QL",
        "outputId": "5f7383fe-3250-438f-91ec-4ff3076049e6",
        "colab": {
          "base_uri": "https://localhost:8080/",
          "height": 17
        }
      },
      "source": [
        "from google.colab import files\n",
        "for img in os.listdir('/content/anpr_yolov5/inference/output'):\n",
        "  path = os.path.join('/content/anpr_yolov5/inference/output',img)\n",
        "  files.download(path)"
      ],
      "execution_count": 12,
      "outputs": [
        {
          "output_type": "display_data",
          "data": {
            "application/javascript": [
              "\n",
              "    async function download(id, filename, size) {\n",
              "      if (!google.colab.kernel.accessAllowed) {\n",
              "        return;\n",
              "      }\n",
              "      const div = document.createElement('div');\n",
              "      const label = document.createElement('label');\n",
              "      label.textContent = `Downloading \"${filename}\": `;\n",
              "      div.appendChild(label);\n",
              "      const progress = document.createElement('progress');\n",
              "      progress.max = size;\n",
              "      div.appendChild(progress);\n",
              "      document.body.appendChild(div);\n",
              "\n",
              "      const buffers = [];\n",
              "      let downloaded = 0;\n",
              "\n",
              "      const channel = await google.colab.kernel.comms.open(id);\n",
              "      // Send a message to notify the kernel that we're ready.\n",
              "      channel.send({})\n",
              "\n",
              "      for await (const message of channel.messages) {\n",
              "        // Send a message to notify the kernel that we're ready.\n",
              "        channel.send({})\n",
              "        if (message.buffers) {\n",
              "          for (const buffer of message.buffers) {\n",
              "            buffers.push(buffer);\n",
              "            downloaded += buffer.byteLength;\n",
              "            progress.value = downloaded;\n",
              "          }\n",
              "        }\n",
              "      }\n",
              "      const blob = new Blob(buffers, {type: 'application/binary'});\n",
              "      const a = document.createElement('a');\n",
              "      a.href = window.URL.createObjectURL(blob);\n",
              "      a.download = filename;\n",
              "      div.appendChild(a);\n",
              "      a.click();\n",
              "      div.remove();\n",
              "    }\n",
              "  "
            ],
            "text/plain": [
              "<IPython.core.display.Javascript object>"
            ]
          },
          "metadata": {
            "tags": []
          }
        },
        {
          "output_type": "display_data",
          "data": {
            "application/javascript": [
              "download(\"download_c9c8458a-4632-460a-9235-71c859630e50\", \"car_3.jpg\", 175313)"
            ],
            "text/plain": [
              "<IPython.core.display.Javascript object>"
            ]
          },
          "metadata": {
            "tags": []
          }
        },
        {
          "output_type": "display_data",
          "data": {
            "application/javascript": [
              "\n",
              "    async function download(id, filename, size) {\n",
              "      if (!google.colab.kernel.accessAllowed) {\n",
              "        return;\n",
              "      }\n",
              "      const div = document.createElement('div');\n",
              "      const label = document.createElement('label');\n",
              "      label.textContent = `Downloading \"${filename}\": `;\n",
              "      div.appendChild(label);\n",
              "      const progress = document.createElement('progress');\n",
              "      progress.max = size;\n",
              "      div.appendChild(progress);\n",
              "      document.body.appendChild(div);\n",
              "\n",
              "      const buffers = [];\n",
              "      let downloaded = 0;\n",
              "\n",
              "      const channel = await google.colab.kernel.comms.open(id);\n",
              "      // Send a message to notify the kernel that we're ready.\n",
              "      channel.send({})\n",
              "\n",
              "      for await (const message of channel.messages) {\n",
              "        // Send a message to notify the kernel that we're ready.\n",
              "        channel.send({})\n",
              "        if (message.buffers) {\n",
              "          for (const buffer of message.buffers) {\n",
              "            buffers.push(buffer);\n",
              "            downloaded += buffer.byteLength;\n",
              "            progress.value = downloaded;\n",
              "          }\n",
              "        }\n",
              "      }\n",
              "      const blob = new Blob(buffers, {type: 'application/binary'});\n",
              "      const a = document.createElement('a');\n",
              "      a.href = window.URL.createObjectURL(blob);\n",
              "      a.download = filename;\n",
              "      div.appendChild(a);\n",
              "      a.click();\n",
              "      div.remove();\n",
              "    }\n",
              "  "
            ],
            "text/plain": [
              "<IPython.core.display.Javascript object>"
            ]
          },
          "metadata": {
            "tags": []
          }
        },
        {
          "output_type": "display_data",
          "data": {
            "application/javascript": [
              "download(\"download_268bc38e-a5f8-4ab8-9187-3a64b63ff096\", \"cars.mp4\", 10803761)"
            ],
            "text/plain": [
              "<IPython.core.display.Javascript object>"
            ]
          },
          "metadata": {
            "tags": []
          }
        },
        {
          "output_type": "display_data",
          "data": {
            "application/javascript": [
              "\n",
              "    async function download(id, filename, size) {\n",
              "      if (!google.colab.kernel.accessAllowed) {\n",
              "        return;\n",
              "      }\n",
              "      const div = document.createElement('div');\n",
              "      const label = document.createElement('label');\n",
              "      label.textContent = `Downloading \"${filename}\": `;\n",
              "      div.appendChild(label);\n",
              "      const progress = document.createElement('progress');\n",
              "      progress.max = size;\n",
              "      div.appendChild(progress);\n",
              "      document.body.appendChild(div);\n",
              "\n",
              "      const buffers = [];\n",
              "      let downloaded = 0;\n",
              "\n",
              "      const channel = await google.colab.kernel.comms.open(id);\n",
              "      // Send a message to notify the kernel that we're ready.\n",
              "      channel.send({})\n",
              "\n",
              "      for await (const message of channel.messages) {\n",
              "        // Send a message to notify the kernel that we're ready.\n",
              "        channel.send({})\n",
              "        if (message.buffers) {\n",
              "          for (const buffer of message.buffers) {\n",
              "            buffers.push(buffer);\n",
              "            downloaded += buffer.byteLength;\n",
              "            progress.value = downloaded;\n",
              "          }\n",
              "        }\n",
              "      }\n",
              "      const blob = new Blob(buffers, {type: 'application/binary'});\n",
              "      const a = document.createElement('a');\n",
              "      a.href = window.URL.createObjectURL(blob);\n",
              "      a.download = filename;\n",
              "      div.appendChild(a);\n",
              "      a.click();\n",
              "      div.remove();\n",
              "    }\n",
              "  "
            ],
            "text/plain": [
              "<IPython.core.display.Javascript object>"
            ]
          },
          "metadata": {
            "tags": []
          }
        },
        {
          "output_type": "display_data",
          "data": {
            "application/javascript": [
              "download(\"download_19938a49-72c3-47c0-b427-1ad1797e6c46\", \"car_2.jpg\", 44700)"
            ],
            "text/plain": [
              "<IPython.core.display.Javascript object>"
            ]
          },
          "metadata": {
            "tags": []
          }
        },
        {
          "output_type": "display_data",
          "data": {
            "application/javascript": [
              "\n",
              "    async function download(id, filename, size) {\n",
              "      if (!google.colab.kernel.accessAllowed) {\n",
              "        return;\n",
              "      }\n",
              "      const div = document.createElement('div');\n",
              "      const label = document.createElement('label');\n",
              "      label.textContent = `Downloading \"${filename}\": `;\n",
              "      div.appendChild(label);\n",
              "      const progress = document.createElement('progress');\n",
              "      progress.max = size;\n",
              "      div.appendChild(progress);\n",
              "      document.body.appendChild(div);\n",
              "\n",
              "      const buffers = [];\n",
              "      let downloaded = 0;\n",
              "\n",
              "      const channel = await google.colab.kernel.comms.open(id);\n",
              "      // Send a message to notify the kernel that we're ready.\n",
              "      channel.send({})\n",
              "\n",
              "      for await (const message of channel.messages) {\n",
              "        // Send a message to notify the kernel that we're ready.\n",
              "        channel.send({})\n",
              "        if (message.buffers) {\n",
              "          for (const buffer of message.buffers) {\n",
              "            buffers.push(buffer);\n",
              "            downloaded += buffer.byteLength;\n",
              "            progress.value = downloaded;\n",
              "          }\n",
              "        }\n",
              "      }\n",
              "      const blob = new Blob(buffers, {type: 'application/binary'});\n",
              "      const a = document.createElement('a');\n",
              "      a.href = window.URL.createObjectURL(blob);\n",
              "      a.download = filename;\n",
              "      div.appendChild(a);\n",
              "      a.click();\n",
              "      div.remove();\n",
              "    }\n",
              "  "
            ],
            "text/plain": [
              "<IPython.core.display.Javascript object>"
            ]
          },
          "metadata": {
            "tags": []
          }
        },
        {
          "output_type": "display_data",
          "data": {
            "application/javascript": [
              "download(\"download_03639211-59b3-401c-a463-95a2f9c4b6fa\", \"license_plate.mp4\", 3435077)"
            ],
            "text/plain": [
              "<IPython.core.display.Javascript object>"
            ]
          },
          "metadata": {
            "tags": []
          }
        },
        {
          "output_type": "display_data",
          "data": {
            "application/javascript": [
              "\n",
              "    async function download(id, filename, size) {\n",
              "      if (!google.colab.kernel.accessAllowed) {\n",
              "        return;\n",
              "      }\n",
              "      const div = document.createElement('div');\n",
              "      const label = document.createElement('label');\n",
              "      label.textContent = `Downloading \"${filename}\": `;\n",
              "      div.appendChild(label);\n",
              "      const progress = document.createElement('progress');\n",
              "      progress.max = size;\n",
              "      div.appendChild(progress);\n",
              "      document.body.appendChild(div);\n",
              "\n",
              "      const buffers = [];\n",
              "      let downloaded = 0;\n",
              "\n",
              "      const channel = await google.colab.kernel.comms.open(id);\n",
              "      // Send a message to notify the kernel that we're ready.\n",
              "      channel.send({})\n",
              "\n",
              "      for await (const message of channel.messages) {\n",
              "        // Send a message to notify the kernel that we're ready.\n",
              "        channel.send({})\n",
              "        if (message.buffers) {\n",
              "          for (const buffer of message.buffers) {\n",
              "            buffers.push(buffer);\n",
              "            downloaded += buffer.byteLength;\n",
              "            progress.value = downloaded;\n",
              "          }\n",
              "        }\n",
              "      }\n",
              "      const blob = new Blob(buffers, {type: 'application/binary'});\n",
              "      const a = document.createElement('a');\n",
              "      a.href = window.URL.createObjectURL(blob);\n",
              "      a.download = filename;\n",
              "      div.appendChild(a);\n",
              "      a.click();\n",
              "      div.remove();\n",
              "    }\n",
              "  "
            ],
            "text/plain": [
              "<IPython.core.display.Javascript object>"
            ]
          },
          "metadata": {
            "tags": []
          }
        },
        {
          "output_type": "display_data",
          "data": {
            "application/javascript": [
              "download(\"download_79de1e8f-31dc-4b5c-94a9-9636d18d290d\", \"car_1.jpg\", 457115)"
            ],
            "text/plain": [
              "<IPython.core.display.Javascript object>"
            ]
          },
          "metadata": {
            "tags": []
          }
        },
        {
          "output_type": "display_data",
          "data": {
            "application/javascript": [
              "\n",
              "    async function download(id, filename, size) {\n",
              "      if (!google.colab.kernel.accessAllowed) {\n",
              "        return;\n",
              "      }\n",
              "      const div = document.createElement('div');\n",
              "      const label = document.createElement('label');\n",
              "      label.textContent = `Downloading \"${filename}\": `;\n",
              "      div.appendChild(label);\n",
              "      const progress = document.createElement('progress');\n",
              "      progress.max = size;\n",
              "      div.appendChild(progress);\n",
              "      document.body.appendChild(div);\n",
              "\n",
              "      const buffers = [];\n",
              "      let downloaded = 0;\n",
              "\n",
              "      const channel = await google.colab.kernel.comms.open(id);\n",
              "      // Send a message to notify the kernel that we're ready.\n",
              "      channel.send({})\n",
              "\n",
              "      for await (const message of channel.messages) {\n",
              "        // Send a message to notify the kernel that we're ready.\n",
              "        channel.send({})\n",
              "        if (message.buffers) {\n",
              "          for (const buffer of message.buffers) {\n",
              "            buffers.push(buffer);\n",
              "            downloaded += buffer.byteLength;\n",
              "            progress.value = downloaded;\n",
              "          }\n",
              "        }\n",
              "      }\n",
              "      const blob = new Blob(buffers, {type: 'application/binary'});\n",
              "      const a = document.createElement('a');\n",
              "      a.href = window.URL.createObjectURL(blob);\n",
              "      a.download = filename;\n",
              "      div.appendChild(a);\n",
              "      a.click();\n",
              "      div.remove();\n",
              "    }\n",
              "  "
            ],
            "text/plain": [
              "<IPython.core.display.Javascript object>"
            ]
          },
          "metadata": {
            "tags": []
          }
        },
        {
          "output_type": "display_data",
          "data": {
            "application/javascript": [
              "download(\"download_bcfc13c1-0b11-4bd4-9ce7-3d2cd0358bc7\", \"car_0.jpg\", 234664)"
            ],
            "text/plain": [
              "<IPython.core.display.Javascript object>"
            ]
          },
          "metadata": {
            "tags": []
          }
        },
        {
          "output_type": "display_data",
          "data": {
            "application/javascript": [
              "\n",
              "    async function download(id, filename, size) {\n",
              "      if (!google.colab.kernel.accessAllowed) {\n",
              "        return;\n",
              "      }\n",
              "      const div = document.createElement('div');\n",
              "      const label = document.createElement('label');\n",
              "      label.textContent = `Downloading \"${filename}\": `;\n",
              "      div.appendChild(label);\n",
              "      const progress = document.createElement('progress');\n",
              "      progress.max = size;\n",
              "      div.appendChild(progress);\n",
              "      document.body.appendChild(div);\n",
              "\n",
              "      const buffers = [];\n",
              "      let downloaded = 0;\n",
              "\n",
              "      const channel = await google.colab.kernel.comms.open(id);\n",
              "      // Send a message to notify the kernel that we're ready.\n",
              "      channel.send({})\n",
              "\n",
              "      for await (const message of channel.messages) {\n",
              "        // Send a message to notify the kernel that we're ready.\n",
              "        channel.send({})\n",
              "        if (message.buffers) {\n",
              "          for (const buffer of message.buffers) {\n",
              "            buffers.push(buffer);\n",
              "            downloaded += buffer.byteLength;\n",
              "            progress.value = downloaded;\n",
              "          }\n",
              "        }\n",
              "      }\n",
              "      const blob = new Blob(buffers, {type: 'application/binary'});\n",
              "      const a = document.createElement('a');\n",
              "      a.href = window.URL.createObjectURL(blob);\n",
              "      a.download = filename;\n",
              "      div.appendChild(a);\n",
              "      a.click();\n",
              "      div.remove();\n",
              "    }\n",
              "  "
            ],
            "text/plain": [
              "<IPython.core.display.Javascript object>"
            ]
          },
          "metadata": {
            "tags": []
          }
        },
        {
          "output_type": "display_data",
          "data": {
            "application/javascript": [
              "download(\"download_bfdbb6c5-895a-4549-8db7-46955e038524\", \"car_4.jpg\", 55660)"
            ],
            "text/plain": [
              "<IPython.core.display.Javascript object>"
            ]
          },
          "metadata": {
            "tags": []
          }
        }
      ]
    }
  ]
}